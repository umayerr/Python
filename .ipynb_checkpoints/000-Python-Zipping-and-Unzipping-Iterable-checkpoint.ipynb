{
 "cells": [
  {
   "cell_type": "markdown",
   "id": "91f669ee",
   "metadata": {},
   "source": [
    "# Zipping and Unzipping Iterable\n",
    "\n",
    "Let’s say that we have two lists, one that includes states, and the other includes capitals. We would like to somehow combine the states with the corresponding capitals as tuples. In other words, we would like to combine elements from multiple iterables that have the same index together in a list of tuples.\n",
    "\n",
    "### Create Zip Object\n",
    "\n",
    "We can create zipped objects with the ***zip()*** function. The ***zip()*** function is named due to its analogous mechanism as physical zippers. When we zip something, we bring both sides together. And that’s how the ***zip()*** function works! It brings elements of the same index from multiple iterable objects together as elements of the same tuples."
   ]
  },
  {
   "cell_type": "code",
   "execution_count": 1,
   "id": "39a615d9",
   "metadata": {},
   "outputs": [],
   "source": [
    "names = ['James Bond', 'Jason Bourne', 'Sara Tancredi', 'Jon Snow']\n",
    "genders = ['Male', 'Male', 'Female', 'Male']\n",
    "countries = ['Britain', 'America', 'America', 'Britain']\n",
    "person_info = zip(names, genders, countries)"
   ]
  },
  {
   "cell_type": "markdown",
   "id": "49ed1d3a",
   "metadata": {},
   "source": [
    "### Print Zip Object\n",
    "\n",
    "If we print a zip object, it just prints the object."
   ]
  },
  {
   "cell_type": "code",
   "execution_count": 2,
   "id": "c172bbd5",
   "metadata": {},
   "outputs": [
    {
     "name": "stdout",
     "output_type": "stream",
     "text": [
      "Object type: <class 'zip'>\n",
      "Zipped object: <zip object at 0x000001F52402AC00>\n"
     ]
    }
   ],
   "source": [
    "names = ['James Bond', 'Jason Bourne', 'Sara Tancredi', 'Jon Snow']\n",
    "genders = ['Male', 'Male', 'Female', 'Male']\n",
    "countries = ['Britain', 'America', 'America', 'Britain']\n",
    "person_info = zip(names, genders, countries)\n",
    "\n",
    "print('Object type:', type(person_info))\n",
    "print('Zipped object:', person_info)"
   ]
  },
  {
   "cell_type": "markdown",
   "id": "1e1071c9",
   "metadata": {},
   "source": [
    "If we transfer the zip object in any iterable, such as list, tuple, set etc., then we can see the values."
   ]
  },
  {
   "cell_type": "code",
   "execution_count": 3,
   "id": "7c1537a4",
   "metadata": {},
   "outputs": [
    {
     "name": "stdout",
     "output_type": "stream",
     "text": [
      "Object type: <class 'zip'>\n",
      "Zipped object: <zip object at 0x000001F523FA0100>\n",
      "Zipped object in list: [('James Bond', 'Male', 'Britain'), ('Jason Bourne', 'Male', 'America'), ('Sara Tancredi', 'Female', 'America'), ('Jon Snow', 'Male', 'Britain')]\n"
     ]
    }
   ],
   "source": [
    "names = ['James Bond', 'Jason Bourne', 'Sara Tancredi', 'Jon Snow']\n",
    "genders = ['Male', 'Male', 'Female', 'Male']\n",
    "countries = ['Britain', 'America', 'America', 'Britain']\n",
    "person_info = zip(names, genders, countries)\n",
    "\n",
    "print('Object type:', type(person_info))\n",
    "print('Zipped object:', person_info)\n",
    "print('Zipped object in list:', list(person_info))"
   ]
  },
  {
   "cell_type": "markdown",
   "id": "d34d0262",
   "metadata": {},
   "source": [
    "### Zip Iterator\n",
    "\n",
    "In the example below we can see the first iterable object only provides the values of zip object and others print empty tuple and set."
   ]
  },
  {
   "cell_type": "code",
   "execution_count": 4,
   "id": "7be0b475",
   "metadata": {},
   "outputs": [
    {
     "name": "stdout",
     "output_type": "stream",
     "text": [
      "Object type: <class 'zip'>\n",
      "Zipped object: <zip object at 0x000001F524034E00>\n",
      "Zipped object in list: [('James Bond', 'Male', 'Britain'), ('Jason Bourne', 'Male', 'America'), ('Sara Tancredi', 'Female', 'America'), ('Jon Snow', 'Male', 'Britain')]\n",
      "Zipped object in tuple: ()\n",
      "Zipped object in set: set()\n"
     ]
    }
   ],
   "source": [
    "names = ['James Bond', 'Jason Bourne', 'Sara Tancredi', 'Jon Snow']\n",
    "genders = ['Male', 'Male', 'Female', 'Male']\n",
    "countries = ['Britain', 'America', 'America', 'Britain']\n",
    "person_info = zip(names, genders, countries)\n",
    "\n",
    "print('Object type:', type(person_info))\n",
    "print('Zipped object:', person_info)\n",
    "print('Zipped object in list:', list(person_info))\n",
    "print('Zipped object in tuple:', tuple(person_info))\n",
    "print('Zipped object in set:', set(person_info))"
   ]
  },
  {
   "cell_type": "markdown",
   "id": "8b860d64",
   "metadata": {},
   "source": [
    "The zip function returns an iterator that produces tuples by combining corresponding elements from multiple iterables. When we use the zip iterator, it moves along the pairs one by one. Once it reaches the end, it doesn't go back. It's like a one-way street. If we try to use the same zip iterator again, it won't work because the iterator is empty; it has already given all the pairs. It's like trying to drink from an empty cup — there's nothing left.\n",
    "\n",
    "If we want to use those pairs multiple times, we have to store them in a list or another iterable first. Then you can use that list whenever we want."
   ]
  },
  {
   "cell_type": "code",
   "execution_count": 5,
   "id": "5a70e27d",
   "metadata": {},
   "outputs": [
    {
     "name": "stdout",
     "output_type": "stream",
     "text": [
      "Object type: <class 'list'>\n",
      "Zipped object: [('James Bond', 'Male', 'Britain'), ('Jason Bourne', 'Male', 'America'), ('Sara Tancredi', 'Female', 'America'), ('Jon Snow', 'Male', 'Britain')]\n",
      "Zipped object in list: [('James Bond', 'Male', 'Britain'), ('Jason Bourne', 'Male', 'America'), ('Sara Tancredi', 'Female', 'America'), ('Jon Snow', 'Male', 'Britain')]\n",
      "Zipped object in tuple: (('James Bond', 'Male', 'Britain'), ('Jason Bourne', 'Male', 'America'), ('Sara Tancredi', 'Female', 'America'), ('Jon Snow', 'Male', 'Britain'))\n",
      "Zipped object in set: {('James Bond', 'Male', 'Britain'), ('Jason Bourne', 'Male', 'America'), ('Jon Snow', 'Male', 'Britain'), ('Sara Tancredi', 'Female', 'America')}\n"
     ]
    }
   ],
   "source": [
    "names = ['James Bond', 'Jason Bourne', 'Sara Tancredi', 'Jon Snow']\n",
    "genders = ['Male', 'Male', 'Female', 'Male']\n",
    "countries = ['Britain', 'America', 'America', 'Britain']\n",
    "person_info = list(zip(names, genders, countries))\n",
    "\n",
    "print('Object type:', type(person_info))\n",
    "print('Zipped object:', person_info)\n",
    "print('Zipped object in list:', person_info)\n",
    "print('Zipped object in tuple:', tuple(person_info))\n",
    "print('Zipped object in set:', set(person_info))"
   ]
  },
  {
   "cell_type": "markdown",
   "id": "5e81e711",
   "metadata": {},
   "source": [
    "As the ***zip()*** function returns an iterator, we can use ***\\_\\_next__()*** function or the for loop to iterate over it."
   ]
  },
  {
   "cell_type": "code",
   "execution_count": 6,
   "id": "6df0f25c",
   "metadata": {},
   "outputs": [
    {
     "name": "stdout",
     "output_type": "stream",
     "text": [
      "('James Bond', 'Male', 'Britain')\n",
      "('Jason Bourne', 'Male', 'America')\n",
      "('Sara Tancredi', 'Female', 'America')\n",
      "('Jon Snow', 'Male', 'Britain')\n"
     ]
    }
   ],
   "source": [
    "names = ['James Bond', 'Jason Bourne', 'Sara Tancredi', 'Jon Snow']\n",
    "genders = ['Male', 'Male', 'Female', 'Male']\n",
    "countries = ['Britain', 'America', 'America', 'Britain']\n",
    "person_info = zip(names, genders, countries)\n",
    "\n",
    "print(person_info.__next__())\n",
    "\n",
    "for info in person_info:\n",
    "    print(info)"
   ]
  },
  {
   "cell_type": "markdown",
   "id": "66b4a454",
   "metadata": {},
   "source": [
    "### One-Argument Zip Object\n",
    "\n",
    "If we only pass in one iterable object to the ***zip()*** function, then we will get a list of 1-item tuples as follows:"
   ]
  },
  {
   "cell_type": "code",
   "execution_count": 7,
   "id": "d5082b53",
   "metadata": {},
   "outputs": [
    {
     "name": "stdout",
     "output_type": "stream",
     "text": [
      "[('James Bond',), ('Jason Bourne',), ('Sara Tancredi',), ('Jon Snow',)]\n"
     ]
    }
   ],
   "source": [
    "names = ['James Bond', 'Jason Bourne', 'Sara Tancredi', 'Jon Snow']\n",
    "print(list(zip(names)))"
   ]
  },
  {
   "cell_type": "markdown",
   "id": "5434309d",
   "metadata": {},
   "source": [
    "### Unequal-Length-Arguments Zip Object\n",
    "\n",
    "The iterator returned by the ***zip()*** function stops when the shortest input iterable runs out of elements. The remaining elements in the longer iterables will be ignored."
   ]
  },
  {
   "cell_type": "code",
   "execution_count": 8,
   "id": "9ac0ff50",
   "metadata": {},
   "outputs": [
    {
     "name": "stdout",
     "output_type": "stream",
     "text": [
      "[('James Bond', 'Male', 'Britain'), ('Jason Bourne', 'Male', 'America')]\n"
     ]
    }
   ],
   "source": [
    "names = ['James Bond', 'Jason Bourne', 'Sara Tancredi', 'Jon Snow']\n",
    "genders = ['Male', 'Male', 'Female']\n",
    "countries = ['Britain', 'America']\n",
    "person_info = list(zip(names, genders, countries))\n",
    "print(person_info)"
   ]
  },
  {
   "cell_type": "markdown",
   "id": "092773e7",
   "metadata": {},
   "source": [
    "If the elements in the longer iterables are needed, then we can use the ***itertools.zip_longest()*** function instead of ***zip()***. It continues until the longest iterable runs out, and replaces any missing values with ***None*** (default value). However, if we do not want to use the default value, we can use ***fillvalue*** argument to define missing values."
   ]
  },
  {
   "cell_type": "code",
   "execution_count": 9,
   "id": "cc462ab2",
   "metadata": {},
   "outputs": [
    {
     "name": "stdout",
     "output_type": "stream",
     "text": [
      "[('James Bond', 'Male', 'Britain'), ('Jason Bourne', 'Male', 'America'), ('Sara Tancredi', 'Female', 'NO RECORD'), ('Jon Snow', 'NO RECORD', 'NO RECORD')]\n"
     ]
    }
   ],
   "source": [
    "import itertools\n",
    "\n",
    "names = ['James Bond', 'Jason Bourne', 'Sara Tancredi', 'Jon Snow']\n",
    "genders = ['Male', 'Male', 'Female']\n",
    "countries = ['Britain', 'America']\n",
    "person_info = list(itertools.zip_longest(names, genders, countries, fillvalue='NO RECORD'))\n",
    "print(person_info)"
   ]
  },
  {
   "cell_type": "markdown",
   "id": "1a072617",
   "metadata": {},
   "source": [
    "### Parallel Iteration\n",
    "\n",
    "We can use the ***zip()*** function to iterate in parallel over multiple iterables. Since the ***zip()*** function returns an iterator, we can use this zip object (the iterator it returns) in a for loop."
   ]
  },
  {
   "cell_type": "code",
   "execution_count": 10,
   "id": "03357c4b",
   "metadata": {},
   "outputs": [
    {
     "name": "stdout",
     "output_type": "stream",
     "text": [
      "James Bond Male Britain\n",
      "Jason Bourne Male America\n",
      "Sara Tancredi Female America\n",
      "Jon Snow Male Britain\n"
     ]
    }
   ],
   "source": [
    "names = ['James Bond', 'Jason Bourne', 'Sara Tancredi', 'Jon Snow']\n",
    "genders = ['Male', 'Male', 'Female', 'Male']\n",
    "countries = ['Britain', 'America', 'America', 'Britain']\n",
    "\n",
    "for names, genders, countries in zip(names, genders, countries):\n",
    "    print(names, genders, countries)"
   ]
  },
  {
   "cell_type": "markdown",
   "id": "4be46b0b",
   "metadata": {},
   "source": [
    "### Unzip a Zip Object\n",
    "\n",
    "If we want to get the lists from a zip object then we have to upzip that. To unzip, we can use the unpacking operator * with the ***zip()*** function.\n",
    "\n",
    "The unpacking operator * unpacks the ***person_info*** list of tuples into its tuples. These tuples are then passed to the ***zip()*** function, which takes these separate iterable objects (the tuples), and combines their same-indexed elements together into tuples, making three separate tuples. Lastly, through tuple unpacking, these separated tuples are assigned to the ***unzip_names***, ***unzip_genders*** and ***unzip_countries*** variables. We then use the ***list()*** function to convert these tuples into lists."
   ]
  },
  {
   "cell_type": "code",
   "execution_count": 11,
   "id": "4b22fd95",
   "metadata": {},
   "outputs": [
    {
     "name": "stdout",
     "output_type": "stream",
     "text": [
      "Names: ['James Bond', 'Jason Bourne', 'Sara Tancredi', 'Jon Snow']\n",
      "Genders: ['Male', 'Male', 'Female', 'Male']\n",
      "Countries: ['Britain', 'America', 'America', 'Britain']\n"
     ]
    }
   ],
   "source": [
    "names = ['James Bond', 'Jason Bourne', 'Sara Tancredi', 'Jon Snow']\n",
    "genders = ['Male', 'Male', 'Female', 'Male']\n",
    "countries = ['Britain', 'America', 'America', 'Britain']\n",
    "person_info = list(zip(names, genders, countries))\n",
    "\n",
    "unzip_names, unzip_genders, unzip_countries = zip(*person_info)\n",
    "unzip_names = list(unzip_names)\n",
    "unzip_genders = list(unzip_genders)\n",
    "unzip_countries = list(unzip_countries)\n",
    "\n",
    "print('Names:', unzip_names)\n",
    "print('Genders:', unzip_genders)\n",
    "print('Countries:', unzip_countries)"
   ]
  },
  {
   "cell_type": "code",
   "execution_count": null,
   "id": "a2d63915",
   "metadata": {},
   "outputs": [],
   "source": []
  }
 ],
 "metadata": {
  "kernelspec": {
   "display_name": "Python 3",
   "language": "python",
   "name": "python3"
  },
  "language_info": {
   "codemirror_mode": {
    "name": "ipython",
    "version": 3
   },
   "file_extension": ".py",
   "mimetype": "text/x-python",
   "name": "python",
   "nbconvert_exporter": "python",
   "pygments_lexer": "ipython3",
   "version": "3.8.8"
  }
 },
 "nbformat": 4,
 "nbformat_minor": 5
}
