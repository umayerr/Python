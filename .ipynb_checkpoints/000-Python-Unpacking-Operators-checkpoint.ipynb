{
 "cells": [
  {
   "cell_type": "markdown",
   "id": "c24d887a",
   "metadata": {},
   "source": [
    "# Unpacking Operators:"
   ]
  },
  {
   "cell_type": "markdown",
   "id": "7de1dce9",
   "metadata": {},
   "source": [
    "### * Operator\n",
    "\n",
    "We have a function that takes five arguments and returns their sum"
   ]
  },
  {
   "cell_type": "code",
   "execution_count": 1,
   "id": "c8e48e96",
   "metadata": {},
   "outputs": [
    {
     "data": {
      "text/plain": [
       "15"
      ]
     },
     "execution_count": 1,
     "metadata": {},
     "output_type": "execute_result"
    }
   ],
   "source": [
    "def sum_of_numbers(num1,num2,num3,num4,num5):\n",
    "    total = num1 + num2 + num3 + num4 + num5\n",
    "    return total\n",
    "\n",
    "numbers = [1,2,3,4,5]\n",
    "sum_of_numbers(numbers[0], numbers[1], numbers[2], numbers[3], numbers[4])"
   ]
  },
  {
   "cell_type": "markdown",
   "id": "7df6b8ff",
   "metadata": {},
   "source": [
    "The * operator is an unpacking operator that will unpack the values from any iterable object, such as lists, tuples, strings, etc. It unpacks the 'numbers' list and passes the values of 'numbers' as separate arguments to the 'sum_of_numbers' function."
   ]
  },
  {
   "cell_type": "code",
   "execution_count": 2,
   "id": "a6668d75",
   "metadata": {},
   "outputs": [
    {
     "data": {
      "text/plain": [
       "15"
      ]
     },
     "execution_count": 2,
     "metadata": {},
     "output_type": "execute_result"
    }
   ],
   "source": [
    "def sum_of_numbers(num1,num2,num3,num4,num5):\n",
    "    total = num1 + num2 + num3 + num4 + num5\n",
    "    return total\n",
    "\n",
    "numbers = [1,2,3,4,5]\n",
    "sum_of_numbers(*numbers)"
   ]
  },
  {
   "cell_type": "markdown",
   "id": "774e50fa",
   "metadata": {},
   "source": [
    "***Note:*** For this to work, the number of elements in num_list must match the number of parameters in the num_sum function. If they don’t match, we would get a TypeError."
   ]
  },
  {
   "cell_type": "markdown",
   "id": "f538a6e3",
   "metadata": {},
   "source": [
    "### * Operator with print() functions"
   ]
  },
  {
   "cell_type": "code",
   "execution_count": 3,
   "id": "398fdfb7",
   "metadata": {},
   "outputs": [
    {
     "name": "stdout",
     "output_type": "stream",
     "text": [
      "toyota honda bmw volvo\n"
     ]
    }
   ],
   "source": [
    "cars = ['toyota', 'honda', 'bmw', 'volvo']\n",
    "print(*cars)"
   ]
  },
  {
   "cell_type": "code",
   "execution_count": 4,
   "id": "b1c0714f",
   "metadata": {},
   "outputs": [
    {
     "name": "stdout",
     "output_type": "stream",
     "text": [
      "toyota honda bmw volvo mango apple orange\n"
     ]
    }
   ],
   "source": [
    "cars = ['toyota', 'honda', 'bmw', 'volvo']\n",
    "fruits = ['mango', 'apple', 'orange']\n",
    "print(*cars, *fruits)"
   ]
  },
  {
   "cell_type": "markdown",
   "id": "9facb593",
   "metadata": {},
   "source": [
    "### Merging multiple iterables"
   ]
  },
  {
   "cell_type": "code",
   "execution_count": 5,
   "id": "92ffb4cc",
   "metadata": {},
   "outputs": [
    {
     "name": "stdout",
     "output_type": "stream",
     "text": [
      "{'mango', 'orange', 'apple', 'volvo', 'honda', 'bmw', 'toyota'}\n"
     ]
    }
   ],
   "source": [
    "cars = ['toyota', 'honda', 'bmw', 'volvo']\n",
    "fruits = ('mango', 'apple', 'orange')\n",
    "\n",
    "cars_and_fruits = {*cars, *fruits}\n",
    "print(cars_and_fruits)"
   ]
  },
  {
   "cell_type": "markdown",
   "id": "a696d27d",
   "metadata": {},
   "source": [
    "### Breaking iterables\n",
    "\n",
    "If we want to break an iterable up into 3 parts, with the first letter being assigned to a variable, the last letter being assigned to another variable, and everything in the middle assigned to a third variable."
   ]
  },
  {
   "cell_type": "code",
   "execution_count": 6,
   "id": "cd720b42",
   "metadata": {},
   "outputs": [
    {
     "name": "stdout",
     "output_type": "stream",
     "text": [
      "First part: P\n",
      "Middle part: ['a', 'n', 't', 'h', 'e']\n",
      "Last part: r\n"
     ]
    }
   ],
   "source": [
    "name = 'Panther'\n",
    "first, *middle, last = name\n",
    "print('First part:', first)\n",
    "print('Middle part:',middle)\n",
    "print('Last part:', last)"
   ]
  },
  {
   "cell_type": "markdown",
   "id": "830e4e38",
   "metadata": {},
   "source": [
    "***Note:*** The first and last variables above are called mandatory variables, as they must be assigned concrete values. The middle variable, due to using the * or unpacking operator, can have any number of values, including zero. If there are not enough values to unpack for the mandatory variables, we will get a ValueError.\n",
    "\n",
    "If an iterable has only two items then items will be assigned to the mandatory variables and the middle will be assigned an empty list. So, the iterable must have at least the number of items equivalent to mandatory variables."
   ]
  },
  {
   "cell_type": "markdown",
   "id": "4cdbbfc0",
   "metadata": {},
   "source": [
    "### Packing with * operator\n",
    "\n",
    "We can also use the * operator to pack multiple values into a single variable."
   ]
  },
  {
   "cell_type": "code",
   "execution_count": 7,
   "id": "599394f5",
   "metadata": {},
   "outputs": [
    {
     "name": "stdout",
     "output_type": "stream",
     "text": [
      "['Michael', 'John', 'Nancy']\n"
     ]
    }
   ],
   "source": [
    "*names, = 'Michael', 'John', 'Nancy'\n",
    "print(names)"
   ]
  },
  {
   "cell_type": "markdown",
   "id": "d4206cec",
   "metadata": {},
   "source": [
    "The reason for using a trailing comma after *names is because the left side of the assignment must be a tuple or list. Therefore, the names variable now contains all the names on the right side in the form of a list."
   ]
  },
  {
   "cell_type": "markdown",
   "id": "8cf99fec",
   "metadata": {},
   "source": [
    "### *args\n",
    "\n",
    "If the number of arguments that are passed to a function varies then can use the * operator to pack the arguments in a tuple."
   ]
  },
  {
   "cell_type": "code",
   "execution_count": 8,
   "id": "308ce5f2",
   "metadata": {},
   "outputs": [
    {
     "data": {
      "text/plain": [
       "('Michael', 'John', 'Nancy')"
      ]
     },
     "execution_count": 8,
     "metadata": {},
     "output_type": "execute_result"
    }
   ],
   "source": [
    "def names(*args):\n",
    "    return args\n",
    "\n",
    "names('Michael', 'John', 'Nancy')"
   ]
  },
  {
   "cell_type": "code",
   "execution_count": 9,
   "id": "04aa01fd",
   "metadata": {},
   "outputs": [
    {
     "data": {
      "text/plain": [
       "('Jennifer', 'Nancy')"
      ]
     },
     "execution_count": 9,
     "metadata": {},
     "output_type": "execute_result"
    }
   ],
   "source": [
    "def names(*args):\n",
    "    return args\n",
    "\n",
    "names('Jennifer', 'Nancy')"
   ]
  },
  {
   "cell_type": "markdown",
   "id": "be09db20",
   "metadata": {},
   "source": [
    "### **kwargs\n",
    "\n",
    "To pass in a varying number of keyword or named arguments, we use the ** operator when defining a function. The ** unpacking operator will pack the varying number of named arguments we pass in into a dictionary."
   ]
  },
  {
   "cell_type": "code",
   "execution_count": 10,
   "id": "8d45fc3c",
   "metadata": {},
   "outputs": [
    {
     "data": {
      "text/plain": [
       "{'Jane': 'Doe'}"
      ]
     },
     "execution_count": 10,
     "metadata": {},
     "output_type": "execute_result"
    }
   ],
   "source": [
    "def names(**kwargs):\n",
    "    return kwargs\n",
    "\n",
    "names(Jane = 'Doe')"
   ]
  },
  {
   "cell_type": "code",
   "execution_count": 11,
   "id": "27e62d0b",
   "metadata": {},
   "outputs": [
    {
     "data": {
      "text/plain": [
       "{'Jane': 'Doe', 'John': 'Smith'}"
      ]
     },
     "execution_count": 11,
     "metadata": {},
     "output_type": "execute_result"
    }
   ],
   "source": [
    "def names(**kwargs):\n",
    "    return kwargs\n",
    "\n",
    "names(Jane = 'Doe', John = 'Smith')"
   ]
  },
  {
   "cell_type": "markdown",
   "id": "7097b758",
   "metadata": {},
   "source": [
    "***Note:*** When using the * operator to create a parameter that receives a varying number of positional arguments when defining a function, it is common to use the parameter name args (and kwargs to receive a varying number of keyword or named arguments). However, any names can be chosen for these parameters."
   ]
  },
  {
   "cell_type": "markdown",
   "id": "f61b1840",
   "metadata": {},
   "source": [
    "### Dictionaries\n",
    "\n",
    "If we unpack a dictionary with *, it only takes the keys of the dictionary."
   ]
  },
  {
   "cell_type": "code",
   "execution_count": 12,
   "id": "53535fed",
   "metadata": {},
   "outputs": [
    {
     "name": "stdout",
     "output_type": "stream",
     "text": [
      "a b c\n"
     ]
    }
   ],
   "source": [
    "series = {'a': 1, 'b': 2, 'c': 3}\n",
    "print(*series)"
   ]
  },
  {
   "cell_type": "markdown",
   "id": "5c626c6b",
   "metadata": {},
   "source": [
    "So, we need to use the ** unpacking operator for dictionaries. However, since each value is associated with a specific key, the function that we pass these arguments to must have parameters with the same names as the keys of the dictionary being unpacked."
   ]
  },
  {
   "cell_type": "code",
   "execution_count": 13,
   "id": "11eb3882",
   "metadata": {},
   "outputs": [
    {
     "data": {
      "text/plain": [
       "6"
      ]
     },
     "execution_count": 13,
     "metadata": {},
     "output_type": "execute_result"
    }
   ],
   "source": [
    "series = {'a': 1, 'b': 2, 'c': 3}\n",
    "\n",
    "def sum_(a, b, c):\n",
    "    return a+b+c\n",
    "\n",
    "sum_(**series)"
   ]
  },
  {
   "cell_type": "markdown",
   "id": "a5abe8c3",
   "metadata": {},
   "source": [
    "### Merging Dictionaries\n",
    "\n",
    "** operator can be used to merge two or more dictionaries."
   ]
  },
  {
   "cell_type": "code",
   "execution_count": 14,
   "id": "4e7b9aa2",
   "metadata": {},
   "outputs": [
    {
     "name": "stdout",
     "output_type": "stream",
     "text": [
      "{'a': 1, 'b': 2, 'c': 3, 'd': 4, 'e': 5, 'f': 6}\n"
     ]
    }
   ],
   "source": [
    "series1 = {'a': 1, 'b': 2, 'c': 3}\n",
    "series2 = {'d': 4, 'e': 5, 'f': 6}\n",
    "series = {**series1, **series2}\n",
    "print(series)"
   ]
  },
  {
   "cell_type": "code",
   "execution_count": null,
   "id": "5a8436cf",
   "metadata": {},
   "outputs": [],
   "source": []
  }
 ],
 "metadata": {
  "kernelspec": {
   "display_name": "Python 3",
   "language": "python",
   "name": "python3"
  },
  "language_info": {
   "codemirror_mode": {
    "name": "ipython",
    "version": 3
   },
   "file_extension": ".py",
   "mimetype": "text/x-python",
   "name": "python",
   "nbconvert_exporter": "python",
   "pygments_lexer": "ipython3",
   "version": "3.8.8"
  }
 },
 "nbformat": 4,
 "nbformat_minor": 5
}
