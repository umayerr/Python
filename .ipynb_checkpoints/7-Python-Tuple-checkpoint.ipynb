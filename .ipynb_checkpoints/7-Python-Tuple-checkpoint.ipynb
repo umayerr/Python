{
 "cells": [
  {
   "cell_type": "markdown",
   "id": "d385acb5",
   "metadata": {},
   "source": [
    "# Tuple:\n",
    "Tuple is a collection which is ordered and unchangeable. It allows duplicate members."
   ]
  },
  {
   "cell_type": "markdown",
   "id": "1aa69773",
   "metadata": {},
   "source": [
    "### Create a tuple\n",
    "\n",
    "Using ***(  ):***"
   ]
  },
  {
   "cell_type": "code",
   "execution_count": 17,
   "id": "55a31db8",
   "metadata": {},
   "outputs": [
    {
     "name": "stdout",
     "output_type": "stream",
     "text": [
      "('apple', 'banana', 'cherry', 'kiwi')\n"
     ]
    }
   ],
   "source": [
    "mytuple = ('apple', 'banana', 'cherry', 'kiwi')\n",
    "print(mytuple)"
   ]
  },
  {
   "cell_type": "markdown",
   "id": "c28653b2",
   "metadata": {},
   "source": [
    "Using ***tuple():***"
   ]
  },
  {
   "cell_type": "code",
   "execution_count": 16,
   "id": "76977400",
   "metadata": {},
   "outputs": [
    {
     "name": "stdout",
     "output_type": "stream",
     "text": [
      "('volvo', 'toyota', 'bmw', 'audi')\n"
     ]
    }
   ],
   "source": [
    "mytuple = tuple(('volvo', 'toyota', 'bmw', 'audi'))\n",
    "print(mytuple)"
   ]
  },
  {
   "cell_type": "markdown",
   "id": "7922bce9",
   "metadata": {},
   "source": [
    "### Create single item tuple\n",
    "\n",
    "A comma is added after the item"
   ]
  },
  {
   "cell_type": "code",
   "execution_count": 19,
   "id": "f1414817",
   "metadata": {},
   "outputs": [
    {
     "name": "stdout",
     "output_type": "stream",
     "text": [
      "('apple',)\n",
      "<class 'tuple'>\n"
     ]
    }
   ],
   "source": [
    "mytuple = ('apple',)\n",
    "print(mytuple)\n",
    "print(type(mytuple))"
   ]
  },
  {
   "cell_type": "markdown",
   "id": "de2f92e5",
   "metadata": {},
   "source": [
    "Otherwise Python recognizes it as a string"
   ]
  },
  {
   "cell_type": "code",
   "execution_count": 20,
   "id": "a777fbed",
   "metadata": {},
   "outputs": [
    {
     "name": "stdout",
     "output_type": "stream",
     "text": [
      "apple\n",
      "<class 'str'>\n"
     ]
    }
   ],
   "source": [
    "mytuple = ('apple')\n",
    "print(mytuple)\n",
    "print(type(mytuple))"
   ]
  },
  {
   "cell_type": "markdown",
   "id": "0a8cbad0",
   "metadata": {},
   "source": [
    "### Frequency of a specific item in a tuple"
   ]
  },
  {
   "cell_type": "code",
   "execution_count": 46,
   "id": "8a6dadc0",
   "metadata": {},
   "outputs": [
    {
     "data": {
      "text/plain": [
       "2"
      ]
     },
     "execution_count": 46,
     "metadata": {},
     "output_type": "execute_result"
    }
   ],
   "source": [
    "fruits = ('apple', 'banana', 'cherry', 'kiwi', 'apple')\n",
    "fruits.count('apple')"
   ]
  },
  {
   "cell_type": "markdown",
   "id": "eee9d6b2",
   "metadata": {},
   "source": [
    "### Index of an item in a tuple"
   ]
  },
  {
   "cell_type": "code",
   "execution_count": 48,
   "id": "1a3c8503",
   "metadata": {},
   "outputs": [
    {
     "data": {
      "text/plain": [
       "2"
      ]
     },
     "execution_count": 48,
     "metadata": {},
     "output_type": "execute_result"
    }
   ],
   "source": [
    "fruits = ('apple', 'banana', 'cherry', 'kiwi')\n",
    "fruits.index('cherry')"
   ]
  },
  {
   "cell_type": "markdown",
   "id": "6a9639c3",
   "metadata": {},
   "source": [
    "But if an item occurs multiple times then it returns the index for the first occurrence"
   ]
  },
  {
   "cell_type": "code",
   "execution_count": 49,
   "id": "dcbfe484",
   "metadata": {},
   "outputs": [
    {
     "data": {
      "text/plain": [
       "1"
      ]
     },
     "execution_count": 49,
     "metadata": {},
     "output_type": "execute_result"
    }
   ],
   "source": [
    "fruits = ('apple', 'banana', 'cherry', 'kiwi', 'banana')\n",
    "fruits.index('banana')"
   ]
  },
  {
   "cell_type": "markdown",
   "id": "748d5db0",
   "metadata": {},
   "source": [
    "### Access items of a tuple\n",
    "\n",
    "Like lists, items of a tuple can be accessed at different positions"
   ]
  },
  {
   "cell_type": "code",
   "execution_count": 5,
   "id": "b989d68c",
   "metadata": {},
   "outputs": [
    {
     "name": "stdout",
     "output_type": "stream",
     "text": [
      "fruits[1] : banana\n",
      "fruits[-1] : kiwi\n"
     ]
    }
   ],
   "source": [
    "fruits = ('apple', 'banana', 'cherry', 'kiwi')\n",
    "print('fruits[1] :', fruits[1])\n",
    "print('fruits[-1] :', fruits[-1])"
   ]
  },
  {
   "cell_type": "markdown",
   "id": "333012c8",
   "metadata": {},
   "source": [
    "### Slice a tuple\n",
    "\n",
    "Tuples can be sliced accordingly as like lists"
   ]
  },
  {
   "cell_type": "code",
   "execution_count": 9,
   "id": "bf3ad3e5",
   "metadata": {},
   "outputs": [
    {
     "name": "stdout",
     "output_type": "stream",
     "text": [
      "fruits[:2] : ('apple', 'banana')\n",
      "fruits[1:3] : ('banana', 'cherry')\n",
      "fruits[-3:-1] : ('banana', 'cherry')\n",
      "fruits[2:] : ('cherry', 'kiwi')\n"
     ]
    }
   ],
   "source": [
    "fruits = ('apple', 'banana', 'cherry', 'kiwi')\n",
    "print('fruits[:2] :', fruits[:2])\n",
    "print('fruits[1:3] :', fruits[1:3])\n",
    "print('fruits[-3:-1] :', fruits[-3:-1])\n",
    "print('fruits[2:] :', fruits[2:])"
   ]
  },
  {
   "cell_type": "markdown",
   "id": "9d4f30ae",
   "metadata": {},
   "source": [
    "### Change items of a tuple\n",
    "\n",
    "The value of a tuple cannot be changed once created"
   ]
  },
  {
   "cell_type": "code",
   "execution_count": 12,
   "id": "cee8d2a7",
   "metadata": {},
   "outputs": [
    {
     "ename": "TypeError",
     "evalue": "'tuple' object does not support item assignment",
     "output_type": "error",
     "traceback": [
      "\u001b[1;31m---------------------------------------------------------------------------\u001b[0m",
      "\u001b[1;31mTypeError\u001b[0m                                 Traceback (most recent call last)",
      "\u001b[1;32m<ipython-input-12-e9b5150c6620>\u001b[0m in \u001b[0;36m<module>\u001b[1;34m\u001b[0m\n\u001b[0;32m      1\u001b[0m \u001b[0mfruits\u001b[0m \u001b[1;33m=\u001b[0m \u001b[1;33m(\u001b[0m\u001b[1;34m'apple'\u001b[0m\u001b[1;33m,\u001b[0m \u001b[1;34m'banana'\u001b[0m\u001b[1;33m,\u001b[0m \u001b[1;34m'cherry'\u001b[0m\u001b[1;33m,\u001b[0m \u001b[1;34m'kiwi'\u001b[0m\u001b[1;33m)\u001b[0m\u001b[1;33m\u001b[0m\u001b[1;33m\u001b[0m\u001b[0m\n\u001b[1;32m----> 2\u001b[1;33m \u001b[0mfruits\u001b[0m\u001b[1;33m[\u001b[0m\u001b[1;36m3\u001b[0m\u001b[1;33m]\u001b[0m \u001b[1;33m=\u001b[0m \u001b[1;34m'orange'\u001b[0m\u001b[1;33m\u001b[0m\u001b[1;33m\u001b[0m\u001b[0m\n\u001b[0m\u001b[0;32m      3\u001b[0m \u001b[0mprint\u001b[0m\u001b[1;33m(\u001b[0m\u001b[0mfruits\u001b[0m\u001b[1;33m)\u001b[0m\u001b[1;33m\u001b[0m\u001b[1;33m\u001b[0m\u001b[0m\n",
      "\u001b[1;31mTypeError\u001b[0m: 'tuple' object does not support item assignment"
     ]
    }
   ],
   "source": [
    "fruits = ('apple', 'banana', 'cherry', 'kiwi')\n",
    "fruits[3] = 'orange'\n",
    "print(fruits)"
   ]
  },
  {
   "cell_type": "markdown",
   "id": "11f43a4d",
   "metadata": {},
   "source": [
    "But it is possible after converting the tuple into a list"
   ]
  },
  {
   "cell_type": "code",
   "execution_count": 13,
   "id": "9fc18be1",
   "metadata": {},
   "outputs": [
    {
     "name": "stdout",
     "output_type": "stream",
     "text": [
      "('apple', 'banana', 'cherry', 'orange')\n"
     ]
    }
   ],
   "source": [
    "fruits = ('apple', 'banana', 'cherry', 'kiwi')\n",
    "fruits_list = list(fruits)\n",
    "fruits_list[3] = 'orange'\n",
    "fruits = tuple(fruits_list)\n",
    "print(fruits)"
   ]
  },
  {
   "cell_type": "markdown",
   "id": "a33e3f1e",
   "metadata": {},
   "source": [
    "### Check the presence of items in a tuple"
   ]
  },
  {
   "cell_type": "code",
   "execution_count": 14,
   "id": "d2be42a0",
   "metadata": {},
   "outputs": [
    {
     "name": "stdout",
     "output_type": "stream",
     "text": [
      "True\n"
     ]
    }
   ],
   "source": [
    "fruits = ('apple', 'banana', 'cherry', 'kiwi')\n",
    "print('apple' in fruits)"
   ]
  },
  {
   "cell_type": "markdown",
   "id": "27b1c37e",
   "metadata": {},
   "source": [
    "### Lenth of a tuple"
   ]
  },
  {
   "cell_type": "code",
   "execution_count": 15,
   "id": "df210a4e",
   "metadata": {},
   "outputs": [
    {
     "name": "stdout",
     "output_type": "stream",
     "text": [
      "4\n"
     ]
    }
   ],
   "source": [
    "fruits = ('apple', 'banana', 'cherry', 'kiwi')\n",
    "print(len(fruits))"
   ]
  },
  {
   "cell_type": "markdown",
   "id": "d78a4511",
   "metadata": {},
   "source": [
    "### Add or Remove items\n",
    "\n",
    "These operations are not possible with tuples as they are unchangeable."
   ]
  },
  {
   "cell_type": "markdown",
   "id": "4bf0bfaa",
   "metadata": {},
   "source": [
    "### Delete a tuple completely"
   ]
  },
  {
   "cell_type": "code",
   "execution_count": 21,
   "id": "b89ae12c",
   "metadata": {},
   "outputs": [
    {
     "ename": "NameError",
     "evalue": "name 'fruits' is not defined",
     "output_type": "error",
     "traceback": [
      "\u001b[1;31m---------------------------------------------------------------------------\u001b[0m",
      "\u001b[1;31mNameError\u001b[0m                                 Traceback (most recent call last)",
      "\u001b[1;32m<ipython-input-21-4e9141438238>\u001b[0m in \u001b[0;36m<module>\u001b[1;34m\u001b[0m\n\u001b[0;32m      1\u001b[0m \u001b[0mfruits\u001b[0m \u001b[1;33m=\u001b[0m \u001b[1;33m(\u001b[0m\u001b[1;34m'apple'\u001b[0m\u001b[1;33m,\u001b[0m \u001b[1;34m'banana'\u001b[0m\u001b[1;33m,\u001b[0m \u001b[1;34m'cherry'\u001b[0m\u001b[1;33m)\u001b[0m\u001b[1;33m\u001b[0m\u001b[1;33m\u001b[0m\u001b[0m\n\u001b[0;32m      2\u001b[0m \u001b[1;32mdel\u001b[0m \u001b[0mfruits\u001b[0m\u001b[1;33m\u001b[0m\u001b[1;33m\u001b[0m\u001b[0m\n\u001b[1;32m----> 3\u001b[1;33m \u001b[0mprint\u001b[0m\u001b[1;33m(\u001b[0m\u001b[0mfruits\u001b[0m\u001b[1;33m)\u001b[0m\u001b[1;33m\u001b[0m\u001b[1;33m\u001b[0m\u001b[0m\n\u001b[0m",
      "\u001b[1;31mNameError\u001b[0m: name 'fruits' is not defined"
     ]
    }
   ],
   "source": [
    "fruits = ('apple', 'banana', 'cherry')\n",
    "del fruits\n",
    "print(fruits)"
   ]
  },
  {
   "cell_type": "markdown",
   "id": "3290ac38",
   "metadata": {},
   "source": [
    "### Copy a tuple\n",
    "\n",
    "There are two types of copy in Python: ***1)*** shallow copy and ***2)*** deep copy \n",
    "\n",
    "A ***deep copy*** constructs a new compound object and then, recursively, inserts copies into it of the objects found in the original. So, the original object and the new object are completely different and change in original object does not change the new object.\n",
    "\n",
    "A ***shallow copy*** constructs a new compound object and then (to the extent possible) inserts references into it to the objects found in the original. So, the original object and the new object point the same reference and changes in any object means the changes in the reference which eventually impacts both objects.\n",
    "\n",
    "***Note:*** Tuple allows only shallow copy\n",
    "***Note:*** Tuple object has no attribute 'copy'. \n",
    "\n",
    "Using ***tuple():*** "
   ]
  },
  {
   "cell_type": "code",
   "execution_count": 50,
   "id": "165c591e",
   "metadata": {},
   "outputs": [
    {
     "name": "stdout",
     "output_type": "stream",
     "text": [
      "('toyota', 'honda', 'volvo')\n"
     ]
    }
   ],
   "source": [
    "tuple1 = ('toyota', 'honda', 'volvo')\n",
    "tuple2 = tuple(tuple1)\n",
    "print(tuple2)"
   ]
  },
  {
   "cell_type": "markdown",
   "id": "3195ed2d",
   "metadata": {},
   "source": [
    "Verify the copy type by checking memory locations. Each variable will have different memory locations for deep copy and will refer the same memory location for the shallow copy."
   ]
  },
  {
   "cell_type": "code",
   "execution_count": 58,
   "id": "94298d2f",
   "metadata": {},
   "outputs": [
    {
     "name": "stdout",
     "output_type": "stream",
     "text": [
      "Memory location for tuple1: 1955545265792\n",
      "Memory location for tuple2: 1955545265792\n"
     ]
    }
   ],
   "source": [
    "tuple1 = ('toyota', 'honda', 'volvo')\n",
    "tuple2 = tuple(tuple1)\n",
    "print('Memory location for tuple1:', id(tuple1))\n",
    "print('Memory location for tuple2:', id(tuple2))"
   ]
  },
  {
   "cell_type": "markdown",
   "id": "080eed7a",
   "metadata": {},
   "source": [
    "Using ***'='***"
   ]
  },
  {
   "cell_type": "code",
   "execution_count": 59,
   "id": "d27dad9e",
   "metadata": {},
   "outputs": [
    {
     "name": "stdout",
     "output_type": "stream",
     "text": [
      "('banana', 'orange', 'mango')\n"
     ]
    }
   ],
   "source": [
    "tuple1 = ('banana', 'orange', 'mango')\n",
    "tuple2 = tuple1\n",
    "print(tuple2)"
   ]
  },
  {
   "cell_type": "markdown",
   "id": "0045a1be",
   "metadata": {},
   "source": [
    "Verify the copy type by checking memory locations. Each variable will have different memory locations for deep copy and will refer the same memory location for the shallow copy."
   ]
  },
  {
   "cell_type": "code",
   "execution_count": 60,
   "id": "ee719bd8",
   "metadata": {},
   "outputs": [
    {
     "name": "stdout",
     "output_type": "stream",
     "text": [
      "Memory location for tuple1: 1955541966784\n",
      "Memory location for tuple2: 1955541966784\n"
     ]
    }
   ],
   "source": [
    "tuple1 = ('banana', 'orange', 'mango')\n",
    "tuple2 = tuple1\n",
    "print('Memory location for tuple1:', id(tuple1))\n",
    "print('Memory location for tuple2:', id(tuple2))"
   ]
  },
  {
   "cell_type": "markdown",
   "id": "774ec8f1",
   "metadata": {},
   "source": [
    "Using ***deepcopy():***"
   ]
  },
  {
   "cell_type": "code",
   "execution_count": 61,
   "id": "57659242",
   "metadata": {},
   "outputs": [
    {
     "name": "stdout",
     "output_type": "stream",
     "text": [
      "('toyota', 'honda', 'volvo')\n"
     ]
    }
   ],
   "source": [
    "import copy\n",
    "\n",
    "tuple1 = ('toyota', 'honda', 'volvo')\n",
    "tuple2 = copy.deepcopy(tuple1)\n",
    "print(tuple2)"
   ]
  },
  {
   "cell_type": "markdown",
   "id": "5213a929",
   "metadata": {},
   "source": [
    "Verify the copy type by checking memory locations. Each variable will have different memory locations for deep copy and will refer the same memory location for the shallow copy."
   ]
  },
  {
   "cell_type": "code",
   "execution_count": 62,
   "id": "36d13111",
   "metadata": {},
   "outputs": [
    {
     "name": "stdout",
     "output_type": "stream",
     "text": [
      "Memory location for tuple1: 1955542160704\n",
      "Memory location for tuple2: 1955542160704\n"
     ]
    }
   ],
   "source": [
    "tuple1 = ('toyota', 'honda', 'volvo')\n",
    "tuple2 = copy.deepcopy(tuple1)\n",
    "print('Memory location for tuple1:', id(tuple1))\n",
    "print('Memory location for tuple2:', id(tuple2))"
   ]
  },
  {
   "cell_type": "markdown",
   "id": "4f8d5f5b",
   "metadata": {},
   "source": [
    "### Concatenate two tuples\n",
    "\n",
    "Two tuples can be concatenated in a third variable using only concatenation ***'+'*** sign"
   ]
  },
  {
   "cell_type": "code",
   "execution_count": 23,
   "id": "15f31770",
   "metadata": {},
   "outputs": [
    {
     "name": "stdout",
     "output_type": "stream",
     "text": [
      "('a', 'b', 'c', 1, 2, 3)\n"
     ]
    }
   ],
   "source": [
    "letter = ('a', 'b' , 'c')\n",
    "number = (1, 2, 3)\n",
    "letter_and_number = letter + number\n",
    "print(letter_and_number) "
   ]
  },
  {
   "cell_type": "code",
   "execution_count": null,
   "id": "f89aa424",
   "metadata": {},
   "outputs": [],
   "source": []
  }
 ],
 "metadata": {
  "kernelspec": {
   "display_name": "Python 3",
   "language": "python",
   "name": "python3"
  },
  "language_info": {
   "codemirror_mode": {
    "name": "ipython",
    "version": 3
   },
   "file_extension": ".py",
   "mimetype": "text/x-python",
   "name": "python",
   "nbconvert_exporter": "python",
   "pygments_lexer": "ipython3",
   "version": "3.8.8"
  }
 },
 "nbformat": 4,
 "nbformat_minor": 5
}
