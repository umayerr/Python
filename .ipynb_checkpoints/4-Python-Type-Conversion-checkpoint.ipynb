{
 "cells": [
  {
   "cell_type": "markdown",
   "id": "dd54b564",
   "metadata": {},
   "source": [
    "# Type Conversion:\n",
    "The process of converting the value of one data type (integer, string, float, etc.) to another data type is called type conversion. Python has two types of type conversion.\n",
    "1. Implicit Type Conversion\n",
    "2. Explicit Type Conversion\n",
    "\n",
    "In **Implicit Type Conversion**, Python automatically converts one data type to another data type. This process doesn't need any user involvement."
   ]
  },
  {
   "cell_type": "code",
   "execution_count": 1,
   "id": "1bde4114",
   "metadata": {},
   "outputs": [
    {
     "name": "stdout",
     "output_type": "stream",
     "text": [
      "Value of num_new : 124.23\n",
      "Datatype of num_new : <class 'float'>\n"
     ]
    }
   ],
   "source": [
    "num_int = 123\n",
    "num_flot = 1.23\n",
    "result = num_int + num_flot\n",
    "\n",
    "print('Value of num_new :', result)\n",
    "print('Datatype of num_new :', type(result)) "
   ]
  },
  {
   "cell_type": "markdown",
   "id": "e94263f5",
   "metadata": {},
   "source": [
    "Now, let's try adding a string and an integer, and see how Python deals with it."
   ]
  },
  {
   "cell_type": "code",
   "execution_count": 2,
   "id": "99c9d1ca",
   "metadata": {},
   "outputs": [
    {
     "ename": "TypeError",
     "evalue": "unsupported operand type(s) for +: 'int' and 'str'",
     "output_type": "error",
     "traceback": [
      "\u001b[1;31m---------------------------------------------------------------------------\u001b[0m",
      "\u001b[1;31mTypeError\u001b[0m                                 Traceback (most recent call last)",
      "\u001b[1;32m<ipython-input-2-fcb8c397f3ae>\u001b[0m in \u001b[0;36m<module>\u001b[1;34m\u001b[0m\n\u001b[0;32m      1\u001b[0m \u001b[0mnum_int\u001b[0m \u001b[1;33m=\u001b[0m \u001b[1;36m123\u001b[0m\u001b[1;33m\u001b[0m\u001b[1;33m\u001b[0m\u001b[0m\n\u001b[0;32m      2\u001b[0m \u001b[0mnum_str\u001b[0m \u001b[1;33m=\u001b[0m \u001b[1;34m'111'\u001b[0m\u001b[1;33m\u001b[0m\u001b[1;33m\u001b[0m\u001b[0m\n\u001b[1;32m----> 3\u001b[1;33m \u001b[0mresult\u001b[0m \u001b[1;33m=\u001b[0m \u001b[0mnum_int\u001b[0m \u001b[1;33m+\u001b[0m \u001b[0mnum_str\u001b[0m\u001b[1;33m\u001b[0m\u001b[1;33m\u001b[0m\u001b[0m\n\u001b[0m\u001b[0;32m      4\u001b[0m \u001b[1;33m\u001b[0m\u001b[0m\n\u001b[0;32m      5\u001b[0m \u001b[0mprint\u001b[0m\u001b[1;33m(\u001b[0m\u001b[0mresult\u001b[0m\u001b[1;33m)\u001b[0m\u001b[1;33m\u001b[0m\u001b[1;33m\u001b[0m\u001b[0m\n",
      "\u001b[1;31mTypeError\u001b[0m: unsupported operand type(s) for +: 'int' and 'str'"
     ]
    }
   ],
   "source": [
    "num_int = 123\n",
    "num_str = '111'\n",
    "result = num_int + num_str\n",
    "\n",
    "print(result)"
   ]
  },
  {
   "cell_type": "markdown",
   "id": "3ef3fc71",
   "metadata": {},
   "source": [
    "In **Explicit Type Conversion**, developers convert the data type of an object to required data type. Functions like *int()*, *float()*, *str()*, etc. are used to perform explicit type conversion.\n",
    "This type of conversion is also called **typecasting** because the user casts (changes) the data type of the objects."
   ]
  },
  {
   "cell_type": "code",
   "execution_count": 3,
   "id": "d787ad79",
   "metadata": {},
   "outputs": [
    {
     "name": "stdout",
     "output_type": "stream",
     "text": [
      "Typecasting str to int : 234\n",
      "Typecasting int to str : 123111\n"
     ]
    }
   ],
   "source": [
    "num_int = 123\n",
    "num_str = '111'\n",
    "\n",
    "str_to_int = int(num_str)\n",
    "result_int = num_int + str_to_int\n",
    "\n",
    "int_to_str = str(num_int)\n",
    "result_str = int_to_str + num_str\n",
    "\n",
    "print('Typecasting str to int :', result_int)\n",
    "print('Typecasting int to str :', result_str)"
   ]
  },
  {
   "cell_type": "markdown",
   "id": "b714ca56",
   "metadata": {},
   "source": [
    "**Note:** Complex numbers cannot be converted into another number type."
   ]
  },
  {
   "cell_type": "code",
   "execution_count": null,
   "id": "22eb0fb9",
   "metadata": {},
   "outputs": [],
   "source": []
  }
 ],
 "metadata": {
  "kernelspec": {
   "display_name": "Python 3",
   "language": "python",
   "name": "python3"
  },
  "language_info": {
   "codemirror_mode": {
    "name": "ipython",
    "version": 3
   },
   "file_extension": ".py",
   "mimetype": "text/x-python",
   "name": "python",
   "nbconvert_exporter": "python",
   "pygments_lexer": "ipython3",
   "version": "3.8.8"
  }
 },
 "nbformat": 4,
 "nbformat_minor": 5
}
