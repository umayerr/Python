{
 "cells": [
  {
   "cell_type": "markdown",
   "id": "d40ec49d",
   "metadata": {},
   "source": [
    "# String:\n",
    "String literals in python are surrounded by either single quotation marks, or double quotation marks."
   ]
  },
  {
   "cell_type": "code",
   "execution_count": 1,
   "id": "7828fbcd",
   "metadata": {},
   "outputs": [],
   "source": [
    "x = 'Hello'\n",
    "y = \"Hello\""
   ]
  },
  {
   "cell_type": "markdown",
   "id": "e0ca31d7",
   "metadata": {},
   "source": [
    "Multiple line string can be assigned to a variable using three single quotes or three double quotes. In that case the line breaks are printed at the same position as like variable."
   ]
  },
  {
   "cell_type": "code",
   "execution_count": 2,
   "id": "c516924f",
   "metadata": {},
   "outputs": [
    {
     "name": "stdout",
     "output_type": "stream",
     "text": [
      "Country roads, take me home\n",
      "To the place I belong\n"
     ]
    }
   ],
   "source": [
    "x = '''Country roads, take me home\n",
    "To the place I belong'''\n",
    "y = \"\"\"Country roads, take me home\n",
    "To the place I belong\"\"\"\n",
    "\n",
    "print(x)"
   ]
  },
  {
   "cell_type": "markdown",
   "id": "8d17642e",
   "metadata": {},
   "source": [
    "Strings are like array in Python. The first character has the position 0. Characters of a string can be accessed at different positions."
   ]
  },
  {
   "cell_type": "code",
   "execution_count": 3,
   "id": "ced8f830",
   "metadata": {},
   "outputs": [
    {
     "name": "stdout",
     "output_type": "stream",
     "text": [
      "x[1] : e\n",
      "x[-1] : o\n"
     ]
    }
   ],
   "source": [
    "x = 'Hello'\n",
    "\n",
    "print('x[1] :', x[1])\n",
    "print('x[-1] :', x[-1])"
   ]
  },
  {
   "cell_type": "markdown",
   "id": "41094d05",
   "metadata": {},
   "source": [
    "Strings can be sliced according to necessity."
   ]
  },
  {
   "cell_type": "code",
   "execution_count": 5,
   "id": "c6f917be",
   "metadata": {},
   "outputs": [
    {
     "name": "stdout",
     "output_type": "stream",
     "text": [
      "x[:6] : United\n",
      "x[7:13] : States\n",
      "x[-10:-8] : of\n",
      "x[17:] : America\n"
     ]
    }
   ],
   "source": [
    "x = 'United States of America'\n",
    "\n",
    "print('x[:6] :', x[:6])\n",
    "print('x[7:13] :', x[7:13])\n",
    "print('x[-10:-8] :', x[-10:-8])\n",
    "print('x[17:] :', x[17:])"
   ]
  },
  {
   "cell_type": "markdown",
   "id": "5d70fc36",
   "metadata": {},
   "source": [
    "Python has a set of built-in functions to use on strings. String functions return new value but they do not change the original string."
   ]
  },
  {
   "cell_type": "code",
   "execution_count": 6,
   "id": "feb19b20",
   "metadata": {},
   "outputs": [
    {
     "name": "stdout",
     "output_type": "stream",
     "text": [
      "len(x) : 24\n",
      "x.strip() : United States of America\n",
      "x.lower() : united states of america\n",
      "x.upper() : UNITED STATES OF AMERICA\n",
      "x.split(' ') : ['United', 'States', 'of', 'America']\n",
      "x.replace('c', 'k') : United States of Amerika\n",
      "States in x : True\n",
      "of not in x : False\n"
     ]
    }
   ],
   "source": [
    "x = 'United States of America'\n",
    "\n",
    "print('len(x) :', len(x))\n",
    "print('x.strip() :', x.strip())\n",
    "print('x.lower() :', x.lower())\n",
    "print('x.upper() :', x.upper())\n",
    "print('x.split(\\' \\') :', x.split(' '))\n",
    "print(\"x.replace('c', 'k') :\", x.replace('c', 'k'))\n",
    "print('States in x :', 'States' in x)\n",
    "print('of not in x :', 'of' not in x)"
   ]
  },
  {
   "cell_type": "markdown",
   "id": "a7bd50e9",
   "metadata": {},
   "source": [
    "To insert characters that are illegal in a string, an escape character is used. An escape character is a backslash \\ followed by the character to insert. How to print *'A' for Apple.*?"
   ]
  },
  {
   "cell_type": "code",
   "execution_count": 7,
   "id": "6b3f74b7",
   "metadata": {},
   "outputs": [
    {
     "ename": "SyntaxError",
     "evalue": "invalid syntax (<ipython-input-7-96c3eef5af0a>, line 1)",
     "output_type": "error",
     "traceback": [
      "\u001b[1;36m  File \u001b[1;32m\"<ipython-input-7-96c3eef5af0a>\"\u001b[1;36m, line \u001b[1;32m1\u001b[0m\n\u001b[1;33m    print(''A' for Apple.')\u001b[0m\n\u001b[1;37m            ^\u001b[0m\n\u001b[1;31mSyntaxError\u001b[0m\u001b[1;31m:\u001b[0m invalid syntax\n"
     ]
    }
   ],
   "source": [
    "print(''A' for Apple.')"
   ]
  },
  {
   "cell_type": "code",
   "execution_count": 8,
   "id": "3375d600",
   "metadata": {},
   "outputs": [
    {
     "name": "stdout",
     "output_type": "stream",
     "text": [
      "'A' for Apple.\n",
      "'A' for Apple.\n"
     ]
    }
   ],
   "source": [
    "print(\"'A' for Apple.\")\n",
    "print('\\'A\\' for Apple.')"
   ]
  },
  {
   "cell_type": "markdown",
   "id": "fe71ffe7",
   "metadata": {},
   "source": [
    "To concatenate or combine two strings, + operator is used."
   ]
  },
  {
   "cell_type": "code",
   "execution_count": 9,
   "id": "7583ebeb",
   "metadata": {},
   "outputs": [
    {
     "name": "stdout",
     "output_type": "stream",
     "text": [
      "Hello Python!\n"
     ]
    }
   ],
   "source": [
    "print('Hello' + ' ' + 'Python!')"
   ]
  },
  {
   "cell_type": "markdown",
   "id": "0969b79f",
   "metadata": {},
   "source": [
    "But strings and numbers cannot be combined like below."
   ]
  },
  {
   "cell_type": "code",
   "execution_count": 10,
   "id": "95fb88c9",
   "metadata": {},
   "outputs": [
    {
     "ename": "TypeError",
     "evalue": "can only concatenate str (not \"int\") to str",
     "output_type": "error",
     "traceback": [
      "\u001b[1;31m---------------------------------------------------------------------------\u001b[0m",
      "\u001b[1;31mTypeError\u001b[0m                                 Traceback (most recent call last)",
      "\u001b[1;32m<ipython-input-10-bf983e1012bf>\u001b[0m in \u001b[0;36m<module>\u001b[1;34m\u001b[0m\n\u001b[0;32m      1\u001b[0m \u001b[0mage\u001b[0m \u001b[1;33m=\u001b[0m \u001b[1;36m13\u001b[0m\u001b[1;33m\u001b[0m\u001b[1;33m\u001b[0m\u001b[0m\n\u001b[1;32m----> 2\u001b[1;33m \u001b[0mprint\u001b[0m\u001b[1;33m(\u001b[0m\u001b[1;34m'The '\u001b[0m \u001b[1;33m+\u001b[0m \u001b[0mage\u001b[0m \u001b[1;33m+\u001b[0m \u001b[1;34m' years boy.'\u001b[0m\u001b[1;33m)\u001b[0m\u001b[1;33m\u001b[0m\u001b[1;33m\u001b[0m\u001b[0m\n\u001b[0m",
      "\u001b[1;31mTypeError\u001b[0m: can only concatenate str (not \"int\") to str"
     ]
    }
   ],
   "source": [
    "age = 13\n",
    "print('The ' + age + ' years boy.')"
   ]
  },
  {
   "cell_type": "markdown",
   "id": "9b4ffaec",
   "metadata": {},
   "source": [
    "Typecasting is one way to combine string and numbers."
   ]
  },
  {
   "cell_type": "code",
   "execution_count": 11,
   "id": "4aec5f05",
   "metadata": {},
   "outputs": [
    {
     "name": "stdout",
     "output_type": "stream",
     "text": [
      "The 13 years boy.\n"
     ]
    }
   ],
   "source": [
    "age = 13\n",
    "print('The ' + str(age) + ' years boy.')"
   ]
  },
  {
   "cell_type": "markdown",
   "id": "8bd92eba",
   "metadata": {},
   "source": [
    "It is also possible to combine strings and numbers without typecasting."
   ]
  },
  {
   "cell_type": "code",
   "execution_count": 12,
   "id": "394533ee",
   "metadata": {},
   "outputs": [
    {
     "name": "stdout",
     "output_type": "stream",
     "text": [
      "The 13 years boy.\n"
     ]
    }
   ],
   "source": [
    "age = 13\n",
    "print('The', age, 'years boy.')"
   ]
  },
  {
   "cell_type": "markdown",
   "id": "259ac14e",
   "metadata": {},
   "source": [
    "There is another way to combine strings and numbers using *format()* function."
   ]
  },
  {
   "cell_type": "code",
   "execution_count": 13,
   "id": "cd2ac11a",
   "metadata": {},
   "outputs": [
    {
     "name": "stdout",
     "output_type": "stream",
     "text": [
      "The 13 years boy.\n",
      "The 13 years boy reads in grade 8.\n",
      "The 13 years boy reads in grade 8.\n"
     ]
    }
   ],
   "source": [
    "age = 13\n",
    "grade = 8\n",
    "\n",
    "text = 'The {} years boy.'\n",
    "print(text.format(age))\n",
    "\n",
    "text = 'The {} years boy reads in grade {}.'\n",
    "print(text.format(age, grade))\n",
    "\n",
    "text = 'The {1} years boy reads in grade {0}.'\n",
    "print(text.format(grade, age))"
   ]
  },
  {
   "cell_type": "markdown",
   "id": "0abbff00",
   "metadata": {},
   "source": [
    "f-Strings is a new and improved way to format strings in Python."
   ]
  },
  {
   "cell_type": "code",
   "execution_count": 14,
   "id": "825ffded",
   "metadata": {},
   "outputs": [
    {
     "name": "stdout",
     "output_type": "stream",
     "text": [
      "The 13 years boy.\n",
      "The 13 years boy reads in grade 8.\n"
     ]
    }
   ],
   "source": [
    "age = 13\n",
    "grade = 8\n",
    "\n",
    "print(f'The {age} years boy.')\n",
    "print(f'The {age} years boy reads in grade {grade}.')"
   ]
  },
  {
   "cell_type": "code",
   "execution_count": null,
   "id": "3bbb2739",
   "metadata": {},
   "outputs": [],
   "source": []
  }
 ],
 "metadata": {
  "kernelspec": {
   "display_name": "Python 3",
   "language": "python",
   "name": "python3"
  },
  "language_info": {
   "codemirror_mode": {
    "name": "ipython",
    "version": 3
   },
   "file_extension": ".py",
   "mimetype": "text/x-python",
   "name": "python",
   "nbconvert_exporter": "python",
   "pygments_lexer": "ipython3",
   "version": "3.8.8"
  }
 },
 "nbformat": 4,
 "nbformat_minor": 5
}
