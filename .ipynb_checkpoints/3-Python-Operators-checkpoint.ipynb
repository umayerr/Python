{
 "cells": [
  {
   "cell_type": "markdown",
   "id": "b60114a7",
   "metadata": {},
   "source": [
    "# Operators\n",
    "### 1. Arithmetic operators\n",
    "1. ( + ) Addition\n",
    "2. ( - ) Subtraction\n",
    "3. ( * ) Multiplication\n",
    "4. ( / ) Division\n",
    "5. ( % ) Modulus\n",
    "6. ( \\*\\* ) Exponentiation\n",
    "7. ( // ) Floor division"
   ]
  },
  {
   "cell_type": "code",
   "execution_count": 1,
   "id": "accc2bf0",
   "metadata": {},
   "outputs": [
    {
     "name": "stdout",
     "output_type": "stream",
     "text": [
      "x + y == 9\n",
      "x - y == 5\n",
      "x * y == 14\n",
      "x / y == 3.5\n",
      "x % y == 1\n",
      "x ** y == 49\n",
      "x // y == 3\n"
     ]
    }
   ],
   "source": [
    "x = 7\n",
    "y = 2\n",
    "\n",
    "print('x + y ==', x + y)\n",
    "print('x - y ==', x - y)\n",
    "print('x * y ==', x * y)\n",
    "print('x / y ==', x / y)\n",
    "print('x % y ==', x % y)\n",
    "print('x ** y ==', x ** y)\n",
    "print('x // y ==', x // y)"
   ]
  },
  {
   "cell_type": "markdown",
   "id": "5bf84df2",
   "metadata": {},
   "source": [
    "### 2. Assignment operators\n",
    "1. ( = ) Assign value\n",
    "2. ( += ) Addition and assign value\n",
    "3. ( -= ) Subtraction and assign value\n",
    "4. ( \\*= ) Multiplication and assign value\n",
    "5. ( /= ) Division and assign value\n",
    "6. ( %= ) Modulus and assign value\n",
    "7. ( \\*\\*= ) Exponentiation and assign value\n",
    "8. ( //= ) Floor division and assign value"
   ]
  },
  {
   "cell_type": "code",
   "execution_count": 2,
   "id": "ed8cccf7",
   "metadata": {},
   "outputs": [
    {
     "name": "stdout",
     "output_type": "stream",
     "text": [
      "x += y == 9\n",
      "x -= y == 7\n",
      "x *= y == 14\n",
      "x /= y == 7.0\n",
      "x %= y == 1.0\n",
      "x **= y == 1.0\n",
      "x //= y == 0.0\n"
     ]
    }
   ],
   "source": [
    "x = 7\n",
    "y = 2\n",
    "\n",
    "x += y\n",
    "print('x += y ==', x)\n",
    "\n",
    "x -= y\n",
    "print('x -= y ==', x)\n",
    "\n",
    "x *= y\n",
    "print('x *= y ==', x)\n",
    "\n",
    "x /= y\n",
    "print('x /= y ==', x)\n",
    "\n",
    "x %= y\n",
    "print('x %= y ==', x)\n",
    "\n",
    "x **= y\n",
    "print('x **= y ==', x)\n",
    "\n",
    "x //= y\n",
    "print('x //= y ==', x)"
   ]
  },
  {
   "cell_type": "markdown",
   "id": "e7db66a6",
   "metadata": {},
   "source": [
    "### 3. Comparison operators\n",
    "1. ( == ) Equal\n",
    "2. ( != ) Not equal\n",
    "3. ( > ) Greater than\n",
    "4. ( < ) Less than\n",
    "5. ( >= ) Greater than or equal\n",
    "6. ( <= ) Less than or equal"
   ]
  },
  {
   "cell_type": "code",
   "execution_count": 3,
   "id": "b8749fad",
   "metadata": {},
   "outputs": [
    {
     "name": "stdout",
     "output_type": "stream",
     "text": [
      "x == y : False\n",
      "x != y : True\n",
      "x > y : True\n",
      "x < y : False\n",
      "x >= y : True\n",
      "x <= y : False\n"
     ]
    }
   ],
   "source": [
    "x = 7\n",
    "y = 2\n",
    "\n",
    "print('x == y :', x == y)\n",
    "print('x != y :', x != y)\n",
    "print('x > y :', x > y)\n",
    "print('x < y :', x < y)\n",
    "print('x >= y :', x >= y)\n",
    "print('x <= y :', x <= y)"
   ]
  },
  {
   "cell_type": "markdown",
   "id": "7c53dd74",
   "metadata": {},
   "source": [
    "### 4. Logical operators\n",
    "1. *and* : Returns *True* if both statements are true\n",
    "2. *or* : Returns *True* if one of the statements is true\n",
    "3. *not* : Reverse the result, returns *False* if the result is true"
   ]
  },
  {
   "cell_type": "code",
   "execution_count": 4,
   "id": "f2539307",
   "metadata": {},
   "outputs": [
    {
     "name": "stdout",
     "output_type": "stream",
     "text": [
      "x < 5 and x < 10 : False\n",
      "x < 5 or x < 10 : True\n",
      "not(x <= 10) : False\n"
     ]
    }
   ],
   "source": [
    "x = 7\n",
    "\n",
    "print('x < 5 and x < 10 :', x < 5 and x < 10)\n",
    "print('x < 5 or x < 10 :', x < 5 or x < 10)\n",
    "print('not(x <= 10) :', not(x <= 10))"
   ]
  },
  {
   "cell_type": "markdown",
   "id": "23e1791d",
   "metadata": {},
   "source": [
    "### 5. Identity operators\n",
    "1. *is* : Returns *True* if both variables are the same object\n",
    "2. *is not* : Returns *True* if both variables are not the same object"
   ]
  },
  {
   "cell_type": "code",
   "execution_count": 5,
   "id": "f0e86f7a",
   "metadata": {},
   "outputs": [
    {
     "name": "stdout",
     "output_type": "stream",
     "text": [
      "x is y : False\n",
      "x is not y : True\n"
     ]
    }
   ],
   "source": [
    "x = 7\n",
    "y = 2\n",
    "\n",
    "print('x is y :', x is y)\n",
    "print('x is not y :', x is not y)"
   ]
  },
  {
   "cell_type": "markdown",
   "id": "02ca77dc",
   "metadata": {},
   "source": [
    "### 6. Membership operators\n",
    "1. *in* : Returns *True* if a sequence with the specified value is present in the object\n",
    "2. *not in* : Returns *True* if a sequence with the specified value is not present in the object"
   ]
  },
  {
   "cell_type": "code",
   "execution_count": 6,
   "id": "500f58a7",
   "metadata": {},
   "outputs": [
    {
     "name": "stdout",
     "output_type": "stream",
     "text": [
      "cat in text : False\n",
      "cat not in text : True\n"
     ]
    }
   ],
   "source": [
    "text = 'The quick brown fox jumps over the lazy dog.'\n",
    "\n",
    "print('cat in text :', 'cat' in text)\n",
    "print('cat not in text :', 'cat' not in text)"
   ]
  },
  {
   "cell_type": "code",
   "execution_count": null,
   "id": "e2a18685",
   "metadata": {},
   "outputs": [],
   "source": []
  }
 ],
 "metadata": {
  "kernelspec": {
   "display_name": "Python 3",
   "language": "python",
   "name": "python3"
  },
  "language_info": {
   "codemirror_mode": {
    "name": "ipython",
    "version": 3
   },
   "file_extension": ".py",
   "mimetype": "text/x-python",
   "name": "python",
   "nbconvert_exporter": "python",
   "pygments_lexer": "ipython3",
   "version": "3.8.8"
  }
 },
 "nbformat": 4,
 "nbformat_minor": 5
}
