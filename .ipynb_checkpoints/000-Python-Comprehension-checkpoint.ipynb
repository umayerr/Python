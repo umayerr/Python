{
 "cells": [
  {
   "cell_type": "markdown",
   "id": "db3b9862",
   "metadata": {},
   "source": [
    "# Comprehension\n",
    "\n",
    "Comprehension provides a short and concise way to construct new sequences, such as lists, sets, dictionaries, etc., using previously defined sequences. Python supports the following 4 types of comprehensions:\n",
    "1. List Comprehension\n",
    "2. Dictionary Comprehension\n",
    "3. Set Comprehension\n",
    "4. Generator Comprehension\n",
    "\n",
    "### List Comprehension\n",
    "\n",
    "List Comprehensions provide an elegant way to create new lists. The following is the basic structure of list comprehension:\n",
    "\n",
    "*output_list = [ output_exp **for** var **in** input_iterable ]*\n",
    "\n",
    "The following example takes a list of numbers as input and provides squares as output using list comprehension."
   ]
  },
  {
   "cell_type": "code",
   "execution_count": 28,
   "id": "62ca6878",
   "metadata": {},
   "outputs": [
    {
     "name": "stdout",
     "output_type": "stream",
     "text": [
      "Type of output sequence: <class 'list'>\n",
      "Values: [1, 4, 9, 16, 25, 36, 49, 64, 81, 100]\n"
     ]
    }
   ],
   "source": [
    "input_list = [1, 2, 3, 4, 5, 6, 7, 8, 9, 10]\n",
    "output_list = [number**2 for number in input_list]\n",
    "\n",
    "print('Type of output sequence:', type(output_list))\n",
    "print('Values:', output_list)"
   ]
  },
  {
   "cell_type": "markdown",
   "id": "48c05140",
   "metadata": {},
   "source": [
    "List comprehension can also contain an if condition.\n",
    "\n",
    "*output_list = [ output_exp **for** var **in** input_iterable **if** condition ]*"
   ]
  },
  {
   "cell_type": "code",
   "execution_count": 27,
   "id": "8b687dd3",
   "metadata": {},
   "outputs": [
    {
     "name": "stdout",
     "output_type": "stream",
     "text": [
      "Type of output sequence: <class 'list'>\n",
      "Values: [2, 4, 6, 8, 10]\n"
     ]
    }
   ],
   "source": [
    "input_list = [1, 2, 3, 4, 5, 6, 7, 8, 9, 10]\n",
    "output_list = [number for number in input_list if number%2 == 0]\n",
    "\n",
    "print('Type of output sequence:', type(output_list))\n",
    "print('Values:', output_list)"
   ]
  },
  {
   "cell_type": "markdown",
   "id": "9c162d54",
   "metadata": {},
   "source": [
    "### Set Comprehension\n",
    "\n",
    "Set comprehensions are pretty similar to list comprehensions. The only difference between them is that set comprehensions use curly brackets { }.\n",
    "\n",
    "*output_list = { output_exp **for** var **in** input_iterable }*"
   ]
  },
  {
   "cell_type": "code",
   "execution_count": 25,
   "id": "f047f243",
   "metadata": {},
   "outputs": [
    {
     "name": "stdout",
     "output_type": "stream",
     "text": [
      "Type of output sequence: <class 'set'>\n",
      "Values: {64, 1, 4, 36, 100, 9, 16, 49, 81, 25}\n"
     ]
    }
   ],
   "source": [
    "input_list = [1, 2, 3, 4, 5, 6, 7, 8, 9, 10]\n",
    "output_set = {number**2 for number in input_list}\n",
    "\n",
    "print('Type of output sequence:', type(output_set))\n",
    "print('Values:', output_set)"
   ]
  },
  {
   "cell_type": "markdown",
   "id": "ffa9ce6c",
   "metadata": {},
   "source": [
    "Set comprehension can also contain an if condition.\n",
    "\n",
    "*output_set = { output_exp **for** var **in** input_iterable **if** condition }*"
   ]
  },
  {
   "cell_type": "code",
   "execution_count": 26,
   "id": "68d7a531",
   "metadata": {},
   "outputs": [
    {
     "name": "stdout",
     "output_type": "stream",
     "text": [
      "Type of output sequence: <class 'set'>\n",
      "Values: {2, 4, 6, 8, 10}\n"
     ]
    }
   ],
   "source": [
    "input_set = {1, 2, 3, 4, 5, 6, 7, 8, 9, 10}\n",
    "output_set = {number for number in input_set if number%2 == 0}\n",
    "\n",
    "print('Type of output sequence:', type(output_set))\n",
    "print('Values:', output_set)"
   ]
  },
  {
   "cell_type": "markdown",
   "id": "1c7e8e1d",
   "metadata": {},
   "source": [
    "### Dictionary Comprehension\n",
    "\n",
    "Extending the idea of list comprehensions, we can also create a dictionary using dictionary comprehensions. The basic structure of a dictionary comprehension looks like below.\n",
    "\n",
    "*output_dict = { key:value **for** (key, value) **in** input_iterable }*"
   ]
  },
  {
   "cell_type": "code",
   "execution_count": 35,
   "id": "22468462",
   "metadata": {},
   "outputs": [
    {
     "name": "stdout",
     "output_type": "stream",
     "text": [
      "Type of output sequence: <class 'dict'>\n",
      "Values: {1: 1, 2: 4, 3: 9, 4: 16, 5: 25, 6: 36, 7: 49, 8: 64, 9: 81, 10: 100}\n"
     ]
    }
   ],
   "source": [
    "input_list = [1, 2, 3, 4, 5, 6, 7, 8, 9, 10]\n",
    "output_dict = {number:number**2 for number in input_list}\n",
    "\n",
    "print('Type of output sequence:', type(output_dict))\n",
    "print('Values:', output_dict)"
   ]
  },
  {
   "cell_type": "markdown",
   "id": "87ad5127",
   "metadata": {},
   "source": [
    "Dictionary comprehension can also contain an if condition.\n",
    "\n",
    "*output_set = { key:value **for** (key, value) **in** input_iterable **if** condition }*"
   ]
  },
  {
   "cell_type": "code",
   "execution_count": 36,
   "id": "888c7f47",
   "metadata": {},
   "outputs": [
    {
     "name": "stdout",
     "output_type": "stream",
     "text": [
      "Type of output sequence: <class 'dict'>\n",
      "Values: {2: 4, 4: 16, 6: 36, 8: 64, 10: 100}\n"
     ]
    }
   ],
   "source": [
    "input_list = [1, 2, 3, 4, 5, 6, 7, 8, 9, 10]\n",
    "output_dict = {number:number**2 for number in input_list if number%2 == 0}\n",
    "\n",
    "print('Type of output sequence:', type(output_dict))\n",
    "print('Values:', output_dict)"
   ]
  },
  {
   "cell_type": "markdown",
   "id": "9cc9c5f9",
   "metadata": {},
   "source": [
    "Another example of dictionary comprehension that maps states with their capitals."
   ]
  },
  {
   "cell_type": "code",
   "execution_count": 42,
   "id": "fc9f7181",
   "metadata": {},
   "outputs": [
    {
     "name": "stdout",
     "output_type": "stream",
     "text": [
      "Type of output sequence: <class 'dict'>\n",
      "Values: {'Maine': 'Augusta', 'New Hampshire': 'Concord', 'Vermont': 'Montpelier', 'Massachusetts': 'Boston', 'Connecticut': 'Hartford', 'Rhode Island': 'Providence'}\n"
     ]
    }
   ],
   "source": [
    "states = ['Maine', 'New Hampshire', 'Vermont', 'Massachusetts', 'Connecticut', 'Rhode Island']\n",
    "capitals = ['Augusta', 'Concord', 'Montpelier', 'Boston', 'Hartford', 'Providence']\n",
    "output_dict = {key:value for (key, value) in zip(states, capitals)}\n",
    "\n",
    "print('Type of output sequence:', type(output_dict))\n",
    "print('Values:', output_dict)"
   ]
  },
  {
   "cell_type": "markdown",
   "id": "abf631a0",
   "metadata": {},
   "source": [
    "The example below creates a dictionary from an input dictionary using dictionary comprehension."
   ]
  },
  {
   "cell_type": "code",
   "execution_count": 47,
   "id": "7c6f0329",
   "metadata": {},
   "outputs": [
    {
     "name": "stdout",
     "output_type": "stream",
     "text": [
      "Type of output sequence: <class 'dict'>\n",
      "Values: {'New Hampshire': 'Concord', 'Rhode Island': 'Providence'}\n"
     ]
    }
   ],
   "source": [
    "input_dict = {'Maine': 'Augusta',\n",
    "              'New Hampshire': 'Concord',\n",
    "              'Vermont': 'Montpelier',\n",
    "              'Massachusetts': 'Boston',\n",
    "              'Connecticut': 'Hartford',\n",
    "              'Rhode Island': 'Providence'}\n",
    "output_dict = {key:value for (key, value) in input_dict.items() if ' ' in key}\n",
    "\n",
    "print('Type of output sequence:', type(output_dict))\n",
    "print('Values:', output_dict)"
   ]
  },
  {
   "cell_type": "markdown",
   "id": "5f736ed4",
   "metadata": {},
   "source": [
    "### Generator Comprehension\n",
    "\n",
    "Generator Comprehensions are very similar to list comprehensions. One difference between them is that generator comprehensions use circular brackets whereas list comprehensions use square brackets. The major difference between them is that generators don’t allocate memory for the whole list. Instead, they generate each value one by one which is why they are memory efficient.\n",
    "\n",
    "*output_list = ( output_exp **for** var **in** input_iterable )*"
   ]
  },
  {
   "cell_type": "code",
   "execution_count": 31,
   "id": "2c5dc56d",
   "metadata": {},
   "outputs": [
    {
     "name": "stdout",
     "output_type": "stream",
     "text": [
      "Type of output sequence: <class 'generator'>\n",
      "Values: 1 4 9 16 25 36 49 64 81 100 "
     ]
    }
   ],
   "source": [
    "input_list = [1, 2, 3, 4, 5, 6, 7, 8, 9, 10]\n",
    "output_gen = (number**2 for number in input_list)\n",
    "\n",
    "print('Type of output sequence:', type(output_gen))\n",
    "print('Values:', end=' ')\n",
    "print(output_gen.__next__(), end=' ')\n",
    "\n",
    "for number in output_gen:\n",
    "    print(number, end=' ')"
   ]
  },
  {
   "cell_type": "markdown",
   "id": "5a033d2c",
   "metadata": {},
   "source": [
    "Generator comprehension can also contain an if condition.\n",
    "\n",
    "*output_set = ( output_exp **for** var **in** input_iterable **if** condition )*"
   ]
  },
  {
   "cell_type": "code",
   "execution_count": 34,
   "id": "979a672b",
   "metadata": {},
   "outputs": [
    {
     "name": "stdout",
     "output_type": "stream",
     "text": [
      "Type of output sequence: <class 'generator'>\n",
      "Values: 2 4 6 8 10 "
     ]
    }
   ],
   "source": [
    "input_set = {1, 2, 3, 4, 5, 6, 7, 8, 9, 10}\n",
    "output_gen = (number for number in input_set if number%2 == 0)\n",
    "\n",
    "print('Type of output sequence:', type(output_gen))\n",
    "print('Values:', end=' ')\n",
    "print(output_gen.__next__(), end=' ')\n",
    "\n",
    "for number in output_gen:\n",
    "    print(number, end=' ')"
   ]
  },
  {
   "cell_type": "code",
   "execution_count": null,
   "id": "aee1b1e1",
   "metadata": {},
   "outputs": [],
   "source": []
  }
 ],
 "metadata": {
  "kernelspec": {
   "display_name": "Python 3",
   "language": "python",
   "name": "python3"
  },
  "language_info": {
   "codemirror_mode": {
    "name": "ipython",
    "version": 3
   },
   "file_extension": ".py",
   "mimetype": "text/x-python",
   "name": "python",
   "nbconvert_exporter": "python",
   "pygments_lexer": "ipython3",
   "version": "3.8.8"
  }
 },
 "nbformat": 4,
 "nbformat_minor": 5
}
