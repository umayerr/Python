{
 "cells": [
  {
   "cell_type": "markdown",
   "id": "25aa0b47",
   "metadata": {},
   "source": [
    "# Dictionary:\n",
    "\n",
    "Dictionary is a collection which is unordered, changeable and indexed. It does not allow duplicate members."
   ]
  },
  {
   "cell_type": "markdown",
   "id": "8da94268",
   "metadata": {},
   "source": [
    "### Create a dictionary\n",
    "\n",
    "Using ***{  }:***"
   ]
  },
  {
   "cell_type": "code",
   "execution_count": 3,
   "id": "2b7483a4",
   "metadata": {},
   "outputs": [
    {
     "name": "stdout",
     "output_type": "stream",
     "text": [
      "{'brand': 'Ford', 'model': 'Mustang', 'year': 1964}\n"
     ]
    }
   ],
   "source": [
    "car = {\n",
    "    'brand': 'Ford',\n",
    "    'model': 'Mustang',\n",
    "    'year': 1964\n",
    "}\n",
    "\n",
    "print(car)"
   ]
  },
  {
   "cell_type": "markdown",
   "id": "8d140582",
   "metadata": {},
   "source": [
    "Using ***dict():***"
   ]
  },
  {
   "cell_type": "code",
   "execution_count": 2,
   "id": "5ba8a31a",
   "metadata": {},
   "outputs": [
    {
     "name": "stdout",
     "output_type": "stream",
     "text": [
      "{'brand': 'Ford', 'model': 'Mustang', 'year': 1964}\n"
     ]
    }
   ],
   "source": [
    "car = dict(brand = 'Ford', model = 'Mustang', year = 1964)\n",
    "print(car)"
   ]
  },
  {
   "cell_type": "markdown",
   "id": "459c007c",
   "metadata": {},
   "source": [
    "### Frequency and Index of dictionary items\n",
    "\n",
    "Dictionary object does not have 'index' and 'count' attributes as it assigns unique key for each value and does not allow duplicate values."
   ]
  },
  {
   "cell_type": "markdown",
   "id": "60737ea7",
   "metadata": {},
   "source": [
    "### Access items of a dictionary\n",
    "\n",
    "***Key:*** Items of a dictionary can be accessed by referring to its key name"
   ]
  },
  {
   "cell_type": "code",
   "execution_count": 4,
   "id": "fbb575d5",
   "metadata": {},
   "outputs": [
    {
     "name": "stdout",
     "output_type": "stream",
     "text": [
      "Ford\n"
     ]
    }
   ],
   "source": [
    "car = {\n",
    "    'brand': 'Ford',\n",
    "    'model': 'Mustang',\n",
    "    'year': 1964\n",
    "}\n",
    "\n",
    "print(car['brand'])   "
   ]
  },
  {
   "cell_type": "markdown",
   "id": "3809c89f",
   "metadata": {},
   "source": [
    "***get():*** It also returns the same result"
   ]
  },
  {
   "cell_type": "code",
   "execution_count": 57,
   "id": "55849d45",
   "metadata": {},
   "outputs": [
    {
     "name": "stdout",
     "output_type": "stream",
     "text": [
      "Ford\n"
     ]
    }
   ],
   "source": [
    "car = {\n",
    "    'brand': 'Ford',\n",
    "    'model': 'Mustang',\n",
    "    'year': 1964\n",
    "}\n",
    "\n",
    "print(car.get('brand')) "
   ]
  },
  {
   "cell_type": "markdown",
   "id": "a9a93bfc",
   "metadata": {},
   "source": [
    "***keys():*** It returns a list of all the keys in the dictionary"
   ]
  },
  {
   "cell_type": "code",
   "execution_count": 7,
   "id": "36957c4d",
   "metadata": {},
   "outputs": [
    {
     "name": "stdout",
     "output_type": "stream",
     "text": [
      "dict_keys(['brand', 'model', 'year'])\n"
     ]
    }
   ],
   "source": [
    "car = {\n",
    "    'brand': 'Ford',\n",
    "    'model': 'Mustang',\n",
    "    'year': 1964\n",
    "}\n",
    "\n",
    "print(car.keys())"
   ]
  },
  {
   "cell_type": "markdown",
   "id": "576beffc",
   "metadata": {},
   "source": [
    "Using ***loop:*** Returns all the keys in the dictionary"
   ]
  },
  {
   "cell_type": "code",
   "execution_count": 53,
   "id": "0838cee8",
   "metadata": {},
   "outputs": [
    {
     "name": "stdout",
     "output_type": "stream",
     "text": [
      "brand\n",
      "model\n",
      "year\n"
     ]
    }
   ],
   "source": [
    "car = {\n",
    "    'brand': 'Ford',\n",
    "    'model': 'Mustang',\n",
    "    'year': 1964\n",
    "}\n",
    "\n",
    "for key in car:\n",
    "    print(key)"
   ]
  },
  {
   "cell_type": "markdown",
   "id": "2ae948d5",
   "metadata": {},
   "source": [
    "***values():*** It returns a list of all the values in the dictionary"
   ]
  },
  {
   "cell_type": "code",
   "execution_count": 8,
   "id": "5588ff4e",
   "metadata": {},
   "outputs": [
    {
     "name": "stdout",
     "output_type": "stream",
     "text": [
      "dict_values(['Ford', 'Mustang', 1964])\n"
     ]
    }
   ],
   "source": [
    "car = {\n",
    "    'brand': 'Ford',\n",
    "    'model': 'Mustang',\n",
    "    'year': 1964\n",
    "}\n",
    "\n",
    "print(car.values())"
   ]
  },
  {
   "cell_type": "markdown",
   "id": "54cc6d2e",
   "metadata": {},
   "source": [
    "Using ***loop:*** Returns all the values in the dictionary"
   ]
  },
  {
   "cell_type": "code",
   "execution_count": 54,
   "id": "813fe8e3",
   "metadata": {},
   "outputs": [
    {
     "name": "stdout",
     "output_type": "stream",
     "text": [
      "Ford\n",
      "Mustang\n",
      "1964\n"
     ]
    }
   ],
   "source": [
    "car = {\n",
    "    'brand': 'Ford',\n",
    "    'model': 'Mustang',\n",
    "    'year': 1964\n",
    "}\n",
    "\n",
    "for key in car:\n",
    "    print(car[key])"
   ]
  },
  {
   "cell_type": "markdown",
   "id": "5a9d66d6",
   "metadata": {},
   "source": [
    "***items():*** It returns each item in a dictionary, as tuples in a list"
   ]
  },
  {
   "cell_type": "code",
   "execution_count": 9,
   "id": "78e16bee",
   "metadata": {},
   "outputs": [
    {
     "name": "stdout",
     "output_type": "stream",
     "text": [
      "dict_items([('brand', 'Ford'), ('model', 'Mustang'), ('year', 1964)])\n"
     ]
    }
   ],
   "source": [
    "car = {\n",
    "    'brand': 'Ford',\n",
    "    'model': 'Mustang',\n",
    "    'year': 1964\n",
    "}\n",
    "\n",
    "print(car.items())"
   ]
  },
  {
   "cell_type": "markdown",
   "id": "ccaf8737",
   "metadata": {},
   "source": [
    "Using ***loop:*** Returns all the keys and values in the dictionary"
   ]
  },
  {
   "cell_type": "code",
   "execution_count": 56,
   "id": "9928a4ae",
   "metadata": {},
   "outputs": [
    {
     "name": "stdout",
     "output_type": "stream",
     "text": [
      "brand : Ford\n",
      "model : Mustang\n",
      "year : 1964\n"
     ]
    }
   ],
   "source": [
    "car = {\n",
    "    'brand': 'Ford',\n",
    "    'model': 'Mustang',\n",
    "    'year': 1964\n",
    "}\n",
    "\n",
    "for key in car:\n",
    "    print(key, ':', car[key])"
   ]
  },
  {
   "cell_type": "markdown",
   "id": "c1ed50bd",
   "metadata": {},
   "source": [
    "### Slice a dictionary\n",
    "\n",
    "Note that dictionaries are by definition unordered even though they are specified in some order and printed in a given order. So it doesn’t make sense to say the “2nd element of the dictionary”, or “the last element of the dictionary”. So what does slicing mean?\n",
    "\n",
    "There are potentially two meanings of the word slicing here. First, we can convert the dictionary into a list, slice the list, and convert the list back to a dictionary. Alternatively, we can take a subset of elements from the dictionary satisfying some condition."
   ]
  },
  {
   "cell_type": "markdown",
   "id": "880f3615",
   "metadata": {},
   "source": [
    "***Method 1: Convert a dictionary to a list and back***\n",
    "\n",
    "In this approach, we first convert a dictionary into a list of tuples. Each tuple include the key and value. Once we have it as a list, we can slice it the usual way and then convert it back to a list."
   ]
  },
  {
   "cell_type": "code",
   "execution_count": 10,
   "id": "40295a9a",
   "metadata": {},
   "outputs": [
    {
     "name": "stdout",
     "output_type": "stream",
     "text": [
      "Original dictionary:\n",
      "{'January': 31, 'February': 28, 'March': 31, 'April': 30, 'May': 31, 'June': 30, 'July': 31, 'August': 31, 'September': 30, 'October': 31, 'November': 30, 'December': 31}\n",
      "\n",
      "Dictionary converted to a list:\n",
      "[('January', 31), ('February', 28), ('March', 31), ('April', 30), ('May', 31), ('June', 30), ('July', 31), ('August', 31), ('September', 30), ('October', 31), ('November', 30), ('December', 31)]\n",
      "\n",
      "Sliced list:\n",
      "[('May', 31), ('June', 30), ('July', 31), ('August', 31)]\n",
      "\n",
      "Sliced dictionary:\n",
      "{'May': 31, 'June': 30, 'July': 31, 'August': 31}\n",
      "\n"
     ]
    }
   ],
   "source": [
    "calendar = {\n",
    "    'January': 31,\n",
    "    'February': 28,\n",
    "    'March': 31,\n",
    "    'April': 30,\n",
    "    'May': 31,\n",
    "    'June': 30,\n",
    "    'July': 31,\n",
    "    'August': 31,\n",
    "    'September': 30,\n",
    "    'October': 31,\n",
    "    'November': 30,\n",
    "    'December': 31\n",
    "}\n",
    "  \n",
    "print(\"Original dictionary:\")\n",
    "print(calendar)\n",
    "print()\n",
    "\n",
    "print(\"Dictionary converted to a list:\")\n",
    "calendar_list = list(calendar.items())\n",
    "print(calendar_list)\n",
    "print()\n",
    "\n",
    "print(\"Sliced list:\")\n",
    "sliced_calendar_list = calendar_list[4:8]\n",
    "print(sliced_calendar_list)\n",
    "print()\n",
    "\n",
    "print(\"Sliced dictionary:\")\n",
    "print(dict(sliced_calendar_list))\n",
    "print()"
   ]
  },
  {
   "cell_type": "markdown",
   "id": "90b7c350",
   "metadata": {},
   "source": [
    "***Method 2: Select items from a dictionary satisfying some condition***\n",
    "\n",
    "The second way to slice a dictionary is to provide some condition, either on the keys or values (or both, if necessary)."
   ]
  },
  {
   "cell_type": "code",
   "execution_count": 16,
   "id": "3207ae94",
   "metadata": {},
   "outputs": [
    {
     "name": "stdout",
     "output_type": "stream",
     "text": [
      "{'January': 31, 'February': 28, 'March': 31, 'April': 30, 'May': 31, 'June': 30, 'July': 31, 'August': 31, 'September': 30, 'October': 31, 'November': 30, 'December': 31}\n",
      "\n",
      "{'February': 28}\n"
     ]
    }
   ],
   "source": [
    "calendar = {\n",
    "    'January': 31,\n",
    "    'February': 28,\n",
    "    'March': 31,\n",
    "    'April': 30,\n",
    "    'May': 31,\n",
    "    'June': 30,\n",
    "    'July': 31,\n",
    "    'August': 31,\n",
    "    'September': 30,\n",
    "    'October': 31,\n",
    "    'November': 30,\n",
    "    'December': 31\n",
    "}\n",
    "  \n",
    "print(calendar)\n",
    "print()\n",
    "# sliced_calendar = { k: v for (k,v) in calendar.items() if v < 30}\n",
    "# print(sliced_calendar)\n",
    "\n",
    "sliced_calendar = {}\n",
    "\n",
    "for key, value in calendar.items():\n",
    "    if value < 30:\n",
    "        sliced_calendar[key] = value\n",
    "    \n",
    "print(sliced_calendar)"
   ]
  },
  {
   "cell_type": "markdown",
   "id": "16afe92d",
   "metadata": {},
   "source": [
    "### Change items of a dictionary\n",
    "\n",
    "By referring to its ***key name:***"
   ]
  },
  {
   "cell_type": "code",
   "execution_count": 17,
   "id": "4991acee",
   "metadata": {},
   "outputs": [
    {
     "name": "stdout",
     "output_type": "stream",
     "text": [
      "{'brand': 'Ford', 'model': 'Mustang', 'year': 1975}\n"
     ]
    }
   ],
   "source": [
    "car = {\n",
    "    'brand': 'Ford',\n",
    "    'model': 'Mustang',\n",
    "    'year': 1964\n",
    "}\n",
    "\n",
    "car['year'] = 1975\n",
    "print(car)"
   ]
  },
  {
   "cell_type": "markdown",
   "id": "4de4038d",
   "metadata": {},
   "source": [
    "Using the ***update():***"
   ]
  },
  {
   "cell_type": "code",
   "execution_count": 24,
   "id": "cd7ac731",
   "metadata": {},
   "outputs": [
    {
     "name": "stdout",
     "output_type": "stream",
     "text": [
      "{'brand': 'Ford', 'model': 'Mustang', 'year': 2020}\n"
     ]
    }
   ],
   "source": [
    "car = {\n",
    "    'brand': 'Ford',\n",
    "    'model': 'Mustang',\n",
    "    'year': 1964\n",
    "}\n",
    "\n",
    "car.update({'year': 2020})\n",
    "print(car)"
   ]
  },
  {
   "cell_type": "markdown",
   "id": "ddc75a64",
   "metadata": {},
   "source": [
    "### Check the presence of a specific key"
   ]
  },
  {
   "cell_type": "code",
   "execution_count": 21,
   "id": "1c991e67",
   "metadata": {},
   "outputs": [
    {
     "name": "stdout",
     "output_type": "stream",
     "text": [
      "True\n"
     ]
    }
   ],
   "source": [
    "car = {\n",
    "    'brand': 'Ford',\n",
    "    'model': 'Mustang',\n",
    "    'year': 1964\n",
    "}\n",
    "\n",
    "print('brand' in car)"
   ]
  },
  {
   "cell_type": "markdown",
   "id": "00b16d35",
   "metadata": {},
   "source": [
    "### Length of a dictionary"
   ]
  },
  {
   "cell_type": "code",
   "execution_count": 22,
   "id": "68a9ad82",
   "metadata": {},
   "outputs": [
    {
     "name": "stdout",
     "output_type": "stream",
     "text": [
      "3\n"
     ]
    }
   ],
   "source": [
    "car = {\n",
    "    'brand': 'Ford',\n",
    "    'model': 'Mustang',\n",
    "    'year': 1964\n",
    "}\n",
    "\n",
    "print(len(car)) "
   ]
  },
  {
   "cell_type": "markdown",
   "id": "a928886c",
   "metadata": {},
   "source": [
    "### Add items to a dictionary\n",
    "\n",
    "Using a new ***index key*** and assigning a value to it:"
   ]
  },
  {
   "cell_type": "code",
   "execution_count": 23,
   "id": "d01f06e7",
   "metadata": {},
   "outputs": [
    {
     "name": "stdout",
     "output_type": "stream",
     "text": [
      "{'brand': 'Ford', 'model': 'Mustang', 'year': 1964, 'origin': 'USA'}\n"
     ]
    }
   ],
   "source": [
    "car = {\n",
    "    'brand': 'Ford',\n",
    "    'model': 'Mustang',\n",
    "    'year': 1964\n",
    "}\n",
    "\n",
    "car['origin'] = 'USA'\n",
    "print(car)"
   ]
  },
  {
   "cell_type": "markdown",
   "id": "17098d5d",
   "metadata": {},
   "source": [
    "Using the ***update():***"
   ]
  },
  {
   "cell_type": "code",
   "execution_count": 27,
   "id": "5718fcaa",
   "metadata": {},
   "outputs": [
    {
     "name": "stdout",
     "output_type": "stream",
     "text": [
      "{'brand': 'Ford', 'model': 'Mustang', 'year': 1964, 'origin': 'USA'}\n"
     ]
    }
   ],
   "source": [
    "car = {\n",
    "    'brand': 'Ford',\n",
    "    'model': 'Mustang',\n",
    "    'year': 1964\n",
    "}\n",
    "\n",
    "car.update({'origin': 'USA'})\n",
    "print(car)"
   ]
  },
  {
   "cell_type": "markdown",
   "id": "0ad2844b",
   "metadata": {},
   "source": [
    "### Remove items from a dictionary\n",
    "\n",
    "***pop():*** Removes the item with the specified key name"
   ]
  },
  {
   "cell_type": "code",
   "execution_count": 29,
   "id": "2426d60d",
   "metadata": {},
   "outputs": [
    {
     "name": "stdout",
     "output_type": "stream",
     "text": [
      "{'brand': 'Ford', 'year': 1964}\n"
     ]
    }
   ],
   "source": [
    "car = {\n",
    "    'brand': 'Ford',\n",
    "    'model': 'Mustang',\n",
    "    'year': 1964\n",
    "}\n",
    "\n",
    "car.pop('model')\n",
    "print(car)"
   ]
  },
  {
   "cell_type": "markdown",
   "id": "398ff599",
   "metadata": {},
   "source": [
    "***popitem():*** Removes the last inserted item (in versions before 3.7, a random item is removed instead)"
   ]
  },
  {
   "cell_type": "code",
   "execution_count": 30,
   "id": "bc28ff08",
   "metadata": {},
   "outputs": [
    {
     "name": "stdout",
     "output_type": "stream",
     "text": [
      "{'brand': 'Ford', 'model': 'Mustang'}\n"
     ]
    }
   ],
   "source": [
    "car = {\n",
    "    'brand': 'Ford',\n",
    "    'model': 'Mustang',\n",
    "    'year': 1964\n",
    "}\n",
    "\n",
    "car.popitem()\n",
    "print(car)"
   ]
  },
  {
   "cell_type": "markdown",
   "id": "d386e6c5",
   "metadata": {},
   "source": [
    "***del:*** Removes the item with the specified key name"
   ]
  },
  {
   "cell_type": "code",
   "execution_count": 31,
   "id": "02b641ed",
   "metadata": {},
   "outputs": [
    {
     "name": "stdout",
     "output_type": "stream",
     "text": [
      "{'brand': 'Ford', 'year': 1964}\n"
     ]
    }
   ],
   "source": [
    "car = {\n",
    "    'brand': 'Ford',\n",
    "    'model': 'Mustang',\n",
    "    'year': 1964\n",
    "}\n",
    "\n",
    "del car['model']\n",
    "print(car)"
   ]
  },
  {
   "cell_type": "markdown",
   "id": "b3d5de9c",
   "metadata": {},
   "source": [
    "### Delete a dictionary completely"
   ]
  },
  {
   "cell_type": "code",
   "execution_count": 32,
   "id": "f871f305",
   "metadata": {},
   "outputs": [
    {
     "ename": "NameError",
     "evalue": "name 'car' is not defined",
     "output_type": "error",
     "traceback": [
      "\u001b[1;31m---------------------------------------------------------------------------\u001b[0m",
      "\u001b[1;31mNameError\u001b[0m                                 Traceback (most recent call last)",
      "\u001b[1;32m<ipython-input-32-6abd3d79d0e2>\u001b[0m in \u001b[0;36m<module>\u001b[1;34m\u001b[0m\n\u001b[0;32m      5\u001b[0m }\n\u001b[0;32m      6\u001b[0m \u001b[1;32mdel\u001b[0m \u001b[0mcar\u001b[0m\u001b[1;33m\u001b[0m\u001b[1;33m\u001b[0m\u001b[0m\n\u001b[1;32m----> 7\u001b[1;33m \u001b[0mprint\u001b[0m\u001b[1;33m(\u001b[0m\u001b[0mcar\u001b[0m\u001b[1;33m)\u001b[0m\u001b[1;33m\u001b[0m\u001b[1;33m\u001b[0m\u001b[0m\n\u001b[0m",
      "\u001b[1;31mNameError\u001b[0m: name 'car' is not defined"
     ]
    }
   ],
   "source": [
    "car = {\n",
    "    'brand': 'Ford',\n",
    "    'model': 'Mustang',\n",
    "    'year': 1964\n",
    "}\n",
    "\n",
    "del car\n",
    "print(car)"
   ]
  },
  {
   "cell_type": "markdown",
   "id": "30d0d6e9",
   "metadata": {},
   "source": [
    "### Empty a dictionary by deleting all items"
   ]
  },
  {
   "cell_type": "code",
   "execution_count": 33,
   "id": "322e4a7a",
   "metadata": {},
   "outputs": [
    {
     "name": "stdout",
     "output_type": "stream",
     "text": [
      "{}\n"
     ]
    }
   ],
   "source": [
    "car = {\n",
    "    'brand': 'Ford',\n",
    "    'model': 'Mustang',\n",
    "    'year': 1964\n",
    "}\n",
    "\n",
    "car.clear()\n",
    "print(car)"
   ]
  },
  {
   "cell_type": "markdown",
   "id": "90602f67",
   "metadata": {},
   "source": [
    "### Copy a dictionary\n",
    "\n",
    "There are two types of copy in Python: ***1)*** shallow copy and ***2)*** deep copy \n",
    "\n",
    "A ***deep copy*** constructs a new compound object and then, recursively, inserts copies into it of the objects found in the original. So, the original object and the new object are completely different and change in original object does not change the new object.\n",
    "\n",
    "Using ***copy():*** "
   ]
  },
  {
   "cell_type": "code",
   "execution_count": 34,
   "id": "5d05f179",
   "metadata": {},
   "outputs": [
    {
     "name": "stdout",
     "output_type": "stream",
     "text": [
      "{'brand': 'Ford', 'model': 'Mustang', 'year': 1964}\n"
     ]
    }
   ],
   "source": [
    "car1 = {\n",
    "    'brand': 'Ford',\n",
    "    'model': 'Mustang',\n",
    "    'year': 1964\n",
    "}\n",
    "\n",
    "car2 = car1.copy()\n",
    "print(car2)"
   ]
  },
  {
   "cell_type": "markdown",
   "id": "6181061c",
   "metadata": {},
   "source": [
    "We can verify the deep copy by printing the memory location of two variables. The memory location will be different."
   ]
  },
  {
   "cell_type": "code",
   "execution_count": 35,
   "id": "e03717c8",
   "metadata": {},
   "outputs": [
    {
     "name": "stdout",
     "output_type": "stream",
     "text": [
      "Memory location for car1: 2896997612352\n",
      "Memory location for car2: 2896996817728\n"
     ]
    }
   ],
   "source": [
    "car1 = {\n",
    "    'brand': 'Ford',\n",
    "    'model': 'Mustang',\n",
    "    'year': 1964\n",
    "}\n",
    "\n",
    "car2 = car1.copy()\n",
    "print('Memory location for car1:', id(car1))\n",
    "print('Memory location for car2:', id(car2))"
   ]
  },
  {
   "cell_type": "markdown",
   "id": "7f3ad584",
   "metadata": {},
   "source": [
    "Using ***dict():*** "
   ]
  },
  {
   "cell_type": "code",
   "execution_count": 36,
   "id": "fd0b61a6",
   "metadata": {},
   "outputs": [
    {
     "name": "stdout",
     "output_type": "stream",
     "text": [
      "{'brand': 'Ford', 'model': 'Mustang', 'year': 1964}\n"
     ]
    }
   ],
   "source": [
    "car1 = {\n",
    "    'brand': 'Ford',\n",
    "    'model': 'Mustang',\n",
    "    'year': 1964\n",
    "}\n",
    "\n",
    "car2 = dict(car1)\n",
    "print(car2)"
   ]
  },
  {
   "cell_type": "markdown",
   "id": "17e52bc0",
   "metadata": {},
   "source": [
    "We can verify the deep copy by printing the memory location of two variables. The memory location will be different."
   ]
  },
  {
   "cell_type": "code",
   "execution_count": 37,
   "id": "ce4382cb",
   "metadata": {},
   "outputs": [
    {
     "name": "stdout",
     "output_type": "stream",
     "text": [
      "Memory location for car1: 2896997649984\n",
      "Memory location for car2: 2896997648576\n"
     ]
    }
   ],
   "source": [
    "car1 = {\n",
    "    'brand': 'Ford',\n",
    "    'model': 'Mustang',\n",
    "    'year': 1964\n",
    "}\n",
    "\n",
    "car2 = dict(car1)\n",
    "print('Memory location for car1:', id(car1))\n",
    "print('Memory location for car2:', id(car2))"
   ]
  },
  {
   "cell_type": "markdown",
   "id": "5e79998f",
   "metadata": {},
   "source": [
    "A ***shallow copy*** constructs a new compound object and then (to the extent possible) inserts references into it to the objects found in the original. So, the original object and the new object point the same reference and changes in any object means the changes in the reference which eventually impacts both objects.\n",
    "\n",
    "Using ***'=' :***"
   ]
  },
  {
   "cell_type": "code",
   "execution_count": 38,
   "id": "f8ca2a87",
   "metadata": {},
   "outputs": [
    {
     "name": "stdout",
     "output_type": "stream",
     "text": [
      "{'brand': 'Ford', 'model': 'Mustang', 'year': 1964}\n"
     ]
    }
   ],
   "source": [
    "car1 = {\n",
    "    'brand': 'Ford',\n",
    "    'model': 'Mustang',\n",
    "    'year': 1964\n",
    "}\n",
    "\n",
    "car2 = car1\n",
    "print(car2)"
   ]
  },
  {
   "cell_type": "markdown",
   "id": "65a7aa6a",
   "metadata": {},
   "source": [
    "We can verify the shallow copy by printing the memory location of two variables. The memory location will be same in this case."
   ]
  },
  {
   "cell_type": "code",
   "execution_count": 39,
   "id": "de9cac90",
   "metadata": {},
   "outputs": [
    {
     "name": "stdout",
     "output_type": "stream",
     "text": [
      "Memory location for car1: 2896997649600\n",
      "Memory location for car2: 2896997649600\n"
     ]
    }
   ],
   "source": [
    "car1 = {\n",
    "    'brand': 'Ford',\n",
    "    'model': 'Mustang',\n",
    "    'year': 1964\n",
    "}\n",
    "\n",
    "car2 = car1\n",
    "print('Memory location for car1:', id(car1))\n",
    "print('Memory location for car2:', id(car2))"
   ]
  },
  {
   "cell_type": "markdown",
   "id": "ad32a732",
   "metadata": {},
   "source": [
    "### Concatenate two dictionaries\n",
    "\n",
    "Using ***update():***"
   ]
  },
  {
   "cell_type": "code",
   "execution_count": 44,
   "id": "3f769d6d",
   "metadata": {},
   "outputs": [
    {
     "name": "stdout",
     "output_type": "stream",
     "text": [
      "{'Bangladesh': 'Dhaka', 'Canada': 'Ottawa', 'United States': 'Washington D. C.', 'France': 'Paris', 'Malaysia': 'Kuala Lumpur'}\n"
     ]
    }
   ],
   "source": [
    "country1 = {\n",
    "    'Bangladesh': 'Dhaka',\n",
    "    'Canada': 'Ottawa',\n",
    "    'United States': 'Washington D. C.'\n",
    "}\n",
    "\n",
    "country2 = {\n",
    "    'France': 'Paris',\n",
    "    'Malaysia': 'Kuala Lumpur'\n",
    "}\n",
    "\n",
    "country1.update(country2)\n",
    "print(country1)"
   ]
  },
  {
   "cell_type": "markdown",
   "id": "fb8ce849",
   "metadata": {},
   "source": [
    "Using ***unpacking operator:***"
   ]
  },
  {
   "cell_type": "code",
   "execution_count": 46,
   "id": "14691c26",
   "metadata": {},
   "outputs": [
    {
     "name": "stdout",
     "output_type": "stream",
     "text": [
      "{'Bangladesh': 'Dhaka', 'Canada': 'Ottawa', 'United States': 'Washington D. C.', 'France': 'Paris', 'Malaysia': 'Kuala Lumpur'}\n"
     ]
    }
   ],
   "source": [
    "country1 = {\n",
    "    'Bangladesh': 'Dhaka',\n",
    "    'Canada': 'Ottawa',\n",
    "    'United States': 'Washington D. C.'\n",
    "}\n",
    "\n",
    "country2 = {\n",
    "    'France': 'Paris',\n",
    "    'Malaysia': 'Kuala Lumpur'\n",
    "}\n",
    "\n",
    "country = {**country1, **country2}\n",
    "print(country)"
   ]
  },
  {
   "cell_type": "markdown",
   "id": "f31f16e5",
   "metadata": {},
   "source": [
    "Using the ***merge operator:***\n",
    "\n",
    "Python 3.9 has introduced the merge operator (|) in the dict class.\n",
    "Using the merge operator, we can combine dictionaries in a single line of code."
   ]
  },
  {
   "cell_type": "code",
   "execution_count": null,
   "id": "60dda4f6",
   "metadata": {},
   "outputs": [],
   "source": [
    "country1 = {\n",
    "    'Bangladesh': 'Dhaka',\n",
    "    'Canada': 'Ottawa',\n",
    "    'United States': 'Washington D. C.'\n",
    "}\n",
    "\n",
    "country2 = {\n",
    "    'France': 'Paris',\n",
    "    'Malaysia': 'Kuala Lumpur'\n",
    "}\n",
    "\n",
    "country = country1 | country2\n",
    "print(country)"
   ]
  },
  {
   "cell_type": "markdown",
   "id": "da675ef7",
   "metadata": {},
   "source": [
    "Using ***loop:***"
   ]
  },
  {
   "cell_type": "code",
   "execution_count": 52,
   "id": "23e601d3",
   "metadata": {},
   "outputs": [
    {
     "name": "stdout",
     "output_type": "stream",
     "text": [
      "{'Bangladesh': 'Dhaka', 'Canada': 'Ottawa', 'United States': 'Washington D. C.', 'France': 'Paris', 'Malaysia': 'Kuala Lumpur'}\n"
     ]
    }
   ],
   "source": [
    "country1 = {\n",
    "    'Bangladesh': 'Dhaka',\n",
    "    'Canada': 'Ottawa',\n",
    "    'United States': 'Washington D. C.'\n",
    "}\n",
    "\n",
    "country2 = {\n",
    "    'France': 'Paris',\n",
    "    'Malaysia': 'Kuala Lumpur'\n",
    "}\n",
    "\n",
    "for key, value in country2.items():\n",
    "    country1[key] = value\n",
    "    \n",
    "print(country1)"
   ]
  },
  {
   "cell_type": "code",
   "execution_count": null,
   "id": "a28d34f2",
   "metadata": {},
   "outputs": [],
   "source": []
  }
 ],
 "metadata": {
  "kernelspec": {
   "display_name": "Python 3",
   "language": "python",
   "name": "python3"
  },
  "language_info": {
   "codemirror_mode": {
    "name": "ipython",
    "version": 3
   },
   "file_extension": ".py",
   "mimetype": "text/x-python",
   "name": "python",
   "nbconvert_exporter": "python",
   "pygments_lexer": "ipython3",
   "version": "3.8.8"
  }
 },
 "nbformat": 4,
 "nbformat_minor": 5
}
