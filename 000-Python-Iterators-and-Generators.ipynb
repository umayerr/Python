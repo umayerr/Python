{
 "cells": [
  {
   "cell_type": "markdown",
   "id": "03b395ad",
   "metadata": {},
   "source": [
    "# Iterators\n",
    "\n",
    "### What is Iterator?\n",
    "\n",
    "First check the following example:"
   ]
  },
  {
   "cell_type": "code",
   "execution_count": 2,
   "id": "3134018d",
   "metadata": {},
   "outputs": [
    {
     "name": "stdout",
     "output_type": "stream",
     "text": [
      "1\n",
      "2\n",
      "3\n",
      "4\n",
      "5\n"
     ]
    }
   ],
   "source": [
    "numbers = [1, 2, 3, 4, 5]\n",
    "\n",
    "for number in numbers:\n",
    "    print(number)"
   ]
  },
  {
   "cell_type": "markdown",
   "id": "c69bfcc7",
   "metadata": {},
   "source": [
    "In the example above, the numbers list represents a stream of data, which generically refers to an ***iterable*** because we can ***iterate*** over it.\n",
    "\n",
    "When we use a while or for loop to iterate over an iterable, we are actually running an ***iteration***. Loop starts iterating the values or items of iterables one by one until it reaches the last element or we terminate the loop conditionally.\n",
    "\n",
    "If an ***iteration process*** requires going through the values or items in a data collection one item at a time (or returning one item at a time), then we will need an ***iterator***.\n",
    "\n",
    "Iterators take responsibility for two main actions:\n",
    "\n",
    "1. Returning the data from a stream or container one item at a time\n",
    "2. Keeping track of the current and visited items\n",
    "\n",
    "Given the definitions, we may conclude that all iterators are also iterable. However, every iterable is not necessarily an iterator. Lists, tuples, dictionaries, and sets are all iterable objects. They are iterable containers which we can get an iterator from."
   ]
  },
  {
   "cell_type": "markdown",
   "id": "0cbe3811",
   "metadata": {},
   "source": [
    "### Create an Iterator\n",
    "\n",
    "We can create an iterator using ***\\_\\_iter__()*** function. "
   ]
  },
  {
   "cell_type": "code",
   "execution_count": 18,
   "id": "7d133a0c",
   "metadata": {},
   "outputs": [],
   "source": [
    "numbers = [1, 2, 3, 4, 5]\n",
    "iterator = numbers.__iter__()"
   ]
  },
  {
   "cell_type": "markdown",
   "id": "f282f603",
   "metadata": {},
   "source": [
    "### Iterator Object\n",
    "\n",
    "The iterator object is called using the ***\\_\\_next__()*** function. Each time the ***\\_\\_next__()*** function is called, it returns a single value from the iterator object."
   ]
  },
  {
   "cell_type": "code",
   "execution_count": 19,
   "id": "cccfd640",
   "metadata": {},
   "outputs": [
    {
     "name": "stdout",
     "output_type": "stream",
     "text": [
      "1\n",
      "2\n",
      "3\n",
      "4\n",
      "5\n"
     ]
    }
   ],
   "source": [
    "numbers = [1, 2, 3, 4, 5]\n",
    "iterator = numbers.__iter__()\n",
    "\n",
    "print(iterator.__next__())\n",
    "print(iterator.__next__())\n",
    "print(iterator.__next__())\n",
    "print(iterator.__next__())\n",
    "print(iterator.__next__())"
   ]
  },
  {
   "cell_type": "markdown",
   "id": "531c863d",
   "metadata": {},
   "source": [
    "### StopIteration Error Handling\n",
    "\n",
    "If ***\\_\\_next__()*** function is called more than the items in the iterator object then it triggers ***StopIteration*** error."
   ]
  },
  {
   "cell_type": "code",
   "execution_count": 3,
   "id": "20d9b4fc",
   "metadata": {},
   "outputs": [
    {
     "name": "stdout",
     "output_type": "stream",
     "text": [
      "1\n",
      "2\n",
      "3\n",
      "4\n",
      "5\n"
     ]
    },
    {
     "ename": "StopIteration",
     "evalue": "",
     "output_type": "error",
     "traceback": [
      "\u001b[1;31m---------------------------------------------------------------------------\u001b[0m",
      "\u001b[1;31mStopIteration\u001b[0m                             Traceback (most recent call last)",
      "\u001b[1;32m<ipython-input-3-c288551f9277>\u001b[0m in \u001b[0;36m<module>\u001b[1;34m\u001b[0m\n\u001b[0;32m      7\u001b[0m \u001b[0mprint\u001b[0m\u001b[1;33m(\u001b[0m\u001b[0mnext\u001b[0m\u001b[1;33m(\u001b[0m\u001b[0miterator\u001b[0m\u001b[1;33m)\u001b[0m\u001b[1;33m)\u001b[0m\u001b[1;33m\u001b[0m\u001b[1;33m\u001b[0m\u001b[0m\n\u001b[0;32m      8\u001b[0m \u001b[0mprint\u001b[0m\u001b[1;33m(\u001b[0m\u001b[0mnext\u001b[0m\u001b[1;33m(\u001b[0m\u001b[0miterator\u001b[0m\u001b[1;33m)\u001b[0m\u001b[1;33m)\u001b[0m\u001b[1;33m\u001b[0m\u001b[1;33m\u001b[0m\u001b[0m\n\u001b[1;32m----> 9\u001b[1;33m \u001b[0mprint\u001b[0m\u001b[1;33m(\u001b[0m\u001b[0mnext\u001b[0m\u001b[1;33m(\u001b[0m\u001b[0miterator\u001b[0m\u001b[1;33m)\u001b[0m\u001b[1;33m)\u001b[0m\u001b[1;33m\u001b[0m\u001b[1;33m\u001b[0m\u001b[0m\n\u001b[0m",
      "\u001b[1;31mStopIteration\u001b[0m: "
     ]
    }
   ],
   "source": [
    "numbers = [1, 2, 3, 4, 5]\n",
    "iterator = numbers.__iter__()\n",
    "\n",
    "print(iterator.__next__())\n",
    "print(iterator.__next__())\n",
    "print(iterator.__next__())\n",
    "print(iterator.__next__())\n",
    "print(iterator.__next__())\n",
    "print(iterator.__next__())"
   ]
  },
  {
   "cell_type": "markdown",
   "id": "3834f637",
   "metadata": {},
   "source": [
    "However, we can resolve this ***StopIteration*** error with exception handling."
   ]
  },
  {
   "cell_type": "code",
   "execution_count": 20,
   "id": "abba4d9c",
   "metadata": {},
   "outputs": [
    {
     "name": "stdout",
     "output_type": "stream",
     "text": [
      "1\n",
      "2\n",
      "3\n",
      "4\n",
      "5\n"
     ]
    }
   ],
   "source": [
    "numbers = [1, 2, 3, 4, 5]\n",
    "iterator = numbers.__iter__()\n",
    "\n",
    "while True:\n",
    "    try:\n",
    "        print(iterator.__next__())\n",
    "    except:\n",
    "        StopIteration\n",
    "        break"
   ]
  },
  {
   "cell_type": "markdown",
   "id": "cade7afc",
   "metadata": {},
   "source": [
    "### Create a Custom Iterator\n",
    "\n",
    "Till now we have only used the inbuilt iterables such as lists or strings, but we can also build an iterator from scratch is easy in Python. We just have to implement the ***\\_\\_iter__()*** and the ***\\_\\_next__()*** methods.\n",
    "\n",
    "Here is our own custom Iterator that returns an even number every time we iterate upon it using both simple iterator and for loop."
   ]
  },
  {
   "cell_type": "code",
   "execution_count": 22,
   "id": "13ea7846",
   "metadata": {},
   "outputs": [
    {
     "name": "stdout",
     "output_type": "stream",
     "text": [
      "Using __next__() function:\n",
      "2\n",
      "4\n",
      "6\n",
      "8\n",
      "10\n",
      "\n",
      "Using for loop:\n",
      "2\n",
      "4\n",
      "6\n",
      "8\n",
      "10\n"
     ]
    }
   ],
   "source": [
    "class EvenInt:\n",
    "     \n",
    "    def __init__(self, max_=0):\n",
    "        self.max = max_\n",
    "        self.initial = 0\n",
    "\n",
    "    def __iter__(self):\n",
    "        return self\n",
    "\n",
    "    def __next__(self):\n",
    "        \n",
    "        self.initial += 2\n",
    "        next_number = self.initial\n",
    "                \n",
    "        if self.initial <= self.max:\n",
    "            return next_number\n",
    "        else:\n",
    "            raise StopIteration\n",
    "        \n",
    "\n",
    "\n",
    "# create an object\n",
    "ei = EvenInt(10)\n",
    "\n",
    "for i in numbers:\n",
    "    print(i)\n",
    "    \n",
    "    \n",
    "print('Using __next__() function:')\n",
    "print(ei.__next__())\n",
    "print(ei.__next__())\n",
    "print(ei.__next__())\n",
    "print(ei.__next__())\n",
    "print(ei.__next__())\n",
    "\n",
    "print()\n",
    "\n",
    "print('Using for loop:')\n",
    "for number in EvenInt(10):\n",
    "    print(number)"
   ]
  },
  {
   "cell_type": "markdown",
   "id": "76884cfc",
   "metadata": {},
   "source": [
    "# Generators\n",
    "\n",
    "### What is generator?\n",
    "\n",
    "A Generator is a function that returns an iterator using the ***yield*** keyword. It is defined like a normal function, but whenever it needs to generate a value, it does so with the ***yield*** keyword rather than return. If the body of a ***def*** contains ***yield***, the function automatically becomes a Python generator function."
   ]
  },
  {
   "cell_type": "markdown",
   "id": "ca7c3b88",
   "metadata": {},
   "source": [
    "### Create a Generator\n",
    "\n",
    "We can create a generator function by simply using the ***def*** keyword and the ***yield*** keyword. The generator has the following syntax."
   ]
  },
  {
   "cell_type": "code",
   "execution_count": 20,
   "id": "49acdcf3",
   "metadata": {},
   "outputs": [],
   "source": [
    "def function_name():\n",
    "    yield statement "
   ]
  },
  {
   "cell_type": "markdown",
   "id": "54fbf716",
   "metadata": {},
   "source": [
    "In the example below, we will create a simple generator that will yield three integers. Then we will print these integers by using a for loop."
   ]
  },
  {
   "cell_type": "code",
   "execution_count": 21,
   "id": "18f94d55",
   "metadata": {},
   "outputs": [
    {
     "name": "stdout",
     "output_type": "stream",
     "text": [
      "1\n",
      "2\n",
      "3\n"
     ]
    }
   ],
   "source": [
    "def simple_generator(): \n",
    "    yield 1            \n",
    "    yield 2            \n",
    "    yield 3            \n",
    "\n",
    "for value in simple_generator():  \n",
    "    print(value)"
   ]
  },
  {
   "cell_type": "markdown",
   "id": "82b9dc40",
   "metadata": {},
   "source": [
    "### Generator Object\n",
    "\n",
    "Generator functions return a generator object that is iterable, i.e., can be used as an Iterator. Generator objects are used either by calling the \\_\\_next__() method of the generator object or using the generator object in a for loop (see the example above)."
   ]
  },
  {
   "cell_type": "code",
   "execution_count": 27,
   "id": "96e5d2a9",
   "metadata": {},
   "outputs": [
    {
     "name": "stdout",
     "output_type": "stream",
     "text": [
      "1\n",
      "2\n",
      "3\n"
     ]
    }
   ],
   "source": [
    "def simple_generator(): \n",
    "    yield 1            \n",
    "    yield 2            \n",
    "    yield 3            \n",
    "\n",
    "sg = simple_generator()\n",
    "\n",
    "print(sg.__next__())\n",
    "print(sg.__next__())\n",
    "print(sg.__next__())"
   ]
  },
  {
   "cell_type": "markdown",
   "id": "2646ac99",
   "metadata": {},
   "source": [
    "### StopIteration Error Handling\n",
    "\n",
    "If ***\\_\\_next__()*** function is called more than the ***yield*** keywords in a generator object then it triggers ***StopIteration*** error."
   ]
  },
  {
   "cell_type": "code",
   "execution_count": 28,
   "id": "b718e2a5",
   "metadata": {},
   "outputs": [
    {
     "name": "stdout",
     "output_type": "stream",
     "text": [
      "1\n",
      "2\n",
      "3\n"
     ]
    },
    {
     "ename": "StopIteration",
     "evalue": "",
     "output_type": "error",
     "traceback": [
      "\u001b[1;31m---------------------------------------------------------------------------\u001b[0m",
      "\u001b[1;31mStopIteration\u001b[0m                             Traceback (most recent call last)",
      "\u001b[1;32m<ipython-input-28-398003a46da0>\u001b[0m in \u001b[0;36m<module>\u001b[1;34m\u001b[0m\n\u001b[0;32m      9\u001b[0m \u001b[0mprint\u001b[0m\u001b[1;33m(\u001b[0m\u001b[0msg\u001b[0m\u001b[1;33m.\u001b[0m\u001b[0m__next__\u001b[0m\u001b[1;33m(\u001b[0m\u001b[1;33m)\u001b[0m\u001b[1;33m)\u001b[0m\u001b[1;33m\u001b[0m\u001b[1;33m\u001b[0m\u001b[0m\n\u001b[0;32m     10\u001b[0m \u001b[0mprint\u001b[0m\u001b[1;33m(\u001b[0m\u001b[0msg\u001b[0m\u001b[1;33m.\u001b[0m\u001b[0m__next__\u001b[0m\u001b[1;33m(\u001b[0m\u001b[1;33m)\u001b[0m\u001b[1;33m)\u001b[0m\u001b[1;33m\u001b[0m\u001b[1;33m\u001b[0m\u001b[0m\n\u001b[1;32m---> 11\u001b[1;33m \u001b[0mprint\u001b[0m\u001b[1;33m(\u001b[0m\u001b[0msg\u001b[0m\u001b[1;33m.\u001b[0m\u001b[0m__next__\u001b[0m\u001b[1;33m(\u001b[0m\u001b[1;33m)\u001b[0m\u001b[1;33m)\u001b[0m\u001b[1;33m\u001b[0m\u001b[1;33m\u001b[0m\u001b[0m\n\u001b[0m",
      "\u001b[1;31mStopIteration\u001b[0m: "
     ]
    }
   ],
   "source": [
    "def simple_generator(): \n",
    "    yield 1            \n",
    "    yield 2            \n",
    "    yield 3            \n",
    "\n",
    "sg = simple_generator()\n",
    "\n",
    "print(sg.__next__())\n",
    "print(sg.__next__())\n",
    "print(sg.__next__())\n",
    "print(sg.__next__())"
   ]
  },
  {
   "cell_type": "markdown",
   "id": "7f4aa35f",
   "metadata": {},
   "source": [
    "However, like Iterator, we can resolve this error with exception handling."
   ]
  },
  {
   "cell_type": "code",
   "execution_count": 30,
   "id": "3c7cd8dd",
   "metadata": {},
   "outputs": [
    {
     "name": "stdout",
     "output_type": "stream",
     "text": [
      "1\n",
      "2\n",
      "3\n"
     ]
    }
   ],
   "source": [
    "def simple_generator(): \n",
    "    yield 1            \n",
    "    yield 2            \n",
    "    yield 3            \n",
    "\n",
    "sg = simple_generator()\n",
    "\n",
    "while True:\n",
    "    try:\n",
    "        print(sg.__next__())\n",
    "    except: \n",
    "        StopIteration\n",
    "        break"
   ]
  },
  {
   "cell_type": "markdown",
   "id": "1bf9fb81",
   "metadata": {},
   "source": [
    "### Generator for Fibonacci Numbers\n",
    "\n",
    "In this example, we will create two generators for Fibonacci Numbers, first a simple generator and second generator using a for loop."
   ]
  },
  {
   "cell_type": "code",
   "execution_count": 17,
   "id": "252a2013",
   "metadata": {},
   "outputs": [
    {
     "name": "stdout",
     "output_type": "stream",
     "text": [
      "Using __next__() function:\n",
      "0\n",
      "1\n",
      "1\n",
      "2\n",
      "3\n",
      "\n",
      "Using for loop:\n",
      "0\n",
      "1\n",
      "1\n",
      "2\n",
      "3\n"
     ]
    }
   ],
   "source": [
    "def fibonacci(max_):\n",
    "    a = 0 \n",
    "    b = 1\n",
    "    \n",
    "    while a < max_:\n",
    "        value = a\n",
    "        a, b = b, a + b\n",
    "        yield value\n",
    "        \n",
    "f = fibonacci(5)\n",
    "\n",
    "print('Using __next__() function:')\n",
    "print(f.__next__())\n",
    "print(f.__next__())\n",
    "print(f.__next__())\n",
    "print(f.__next__())\n",
    "print(f.__next__())\n",
    "\n",
    "print()\n",
    "\n",
    "print('Using for loop:')\n",
    "for value in fibonacci(5):\n",
    "    print(value)"
   ]
  },
  {
   "cell_type": "markdown",
   "id": "c5ea15bf",
   "metadata": {},
   "source": [
    "# Iterators vs. Generators\n",
    "\n",
    "Iterator is a more general concept: any object whose class has a ***\\_\\_next__()*** method and an ***\\_\\_iter__()*** method that does return self.\n",
    "\n",
    "Every generator is an iterator, but not vice versa. A generator is built by calling a function that has one or more ***yield*** expressions, and is an object that meets the previous paragraph's definition of an iterator.\n",
    "\n",
    "We may want to use a custom iterator, rather than a generator, when we need a class with somewhat complex state-maintaining behavior, or want to expose other methods besides ***\\_\\_next__()*** (and ***\\_\\_iter__()*** and ***\\_\\_init__()***). Most often, a generator (sometimes, for sufficiently simple needs, a generator expression) is sufficient, and it's simpler to code because state maintenance (within reasonable limits) is basically \"done for us\" by the frame getting suspended and resumed.\n",
    "\n",
    "For example, a generator such as"
   ]
  },
  {
   "cell_type": "code",
   "execution_count": null,
   "id": "6783a2be",
   "metadata": {},
   "outputs": [],
   "source": [
    "def squares(start, stop):\n",
    "    for i in range(start, stop):\n",
    "        yield i * i\n",
    "\n",
    "generator = squares(a, b)"
   ]
  },
  {
   "cell_type": "markdown",
   "id": "ffec9d96",
   "metadata": {},
   "source": [
    "or the equivalent generator expression (genexp)"
   ]
  },
  {
   "cell_type": "code",
   "execution_count": null,
   "id": "d3df3a05",
   "metadata": {},
   "outputs": [],
   "source": [
    "generator = (i*i for i in range(a, b))"
   ]
  },
  {
   "cell_type": "markdown",
   "id": "188e2fee",
   "metadata": {},
   "source": [
    "would take more code to build as a custom iterator."
   ]
  },
  {
   "cell_type": "code",
   "execution_count": null,
   "id": "b142f586",
   "metadata": {},
   "outputs": [],
   "source": [
    "class Squares(object):\n",
    "    def __init__(self, start, stop):\n",
    "        self.start = start\n",
    "        self.stop = stop\n",
    "\n",
    "    def __iter__(self): \n",
    "        return self\n",
    "\n",
    "    def __next__(self): # next in Python 2\n",
    "        if self.start >= self.stop:\n",
    "            raise StopIteration\n",
    "        current = self.start * self.start\n",
    "        self.start += 1\n",
    "        return current\n",
    "\n",
    "\n",
    "iterator = Squares(a, b)"
   ]
  },
  {
   "cell_type": "markdown",
   "id": "9fa9d345",
   "metadata": {},
   "source": [
    "But, of course, with class Squares we could easily offer extra methods (like below), if we have any actual need for such extra functionality in the application."
   ]
  },
  {
   "cell_type": "code",
   "execution_count": null,
   "id": "815c56b5",
   "metadata": {},
   "outputs": [],
   "source": [
    "def current(self):\n",
    "    return self.start"
   ]
  },
  {
   "cell_type": "code",
   "execution_count": null,
   "id": "a3cd8432",
   "metadata": {},
   "outputs": [],
   "source": []
  }
 ],
 "metadata": {
  "kernelspec": {
   "display_name": "Python 3",
   "language": "python",
   "name": "python3"
  },
  "language_info": {
   "codemirror_mode": {
    "name": "ipython",
    "version": 3
   },
   "file_extension": ".py",
   "mimetype": "text/x-python",
   "name": "python",
   "nbconvert_exporter": "python",
   "pygments_lexer": "ipython3",
   "version": "3.8.8"
  }
 },
 "nbformat": 4,
 "nbformat_minor": 5
}
