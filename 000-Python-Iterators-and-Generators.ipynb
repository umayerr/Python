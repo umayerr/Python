{
 "cells": [
  {
   "cell_type": "markdown",
   "id": "1e573721",
   "metadata": {},
   "source": [
    "# Iterators\n",
    "\n",
    "First check the following example:"
   ]
  },
  {
   "cell_type": "code",
   "execution_count": 2,
   "id": "3134018d",
   "metadata": {},
   "outputs": [
    {
     "name": "stdout",
     "output_type": "stream",
     "text": [
      "1\n",
      "2\n",
      "3\n",
      "4\n",
      "5\n"
     ]
    }
   ],
   "source": [
    "numbers = [1, 2, 3, 4, 5]\n",
    "\n",
    "for number in numbers:\n",
    "    print(number)"
   ]
  },
  {
   "cell_type": "markdown",
   "id": "c69bfcc7",
   "metadata": {},
   "source": [
    "In this example, the numbers list represents a stream of data, which generically refers to an ***iterable*** because we can ***iterate*** over it.\n",
    "\n",
    "When we use a while or for loop to iterate over an iterable, we are actually running an ***iteration***. Loop starts iterating the values or items of iterables one by one until reaches the last element or we terminate the loop condit.\n",
    "\n",
    "If an ***iteration process*** requires going through the values or items in a data collection one item at a time (or returning one item at a time), then we will need an ***iterator***.\n",
    "\n",
    "Iterators take responsibility for two main actions:\n",
    "\n",
    "1. Returning the data from a stream or container one item at a time\n",
    "2. Keeping track of the current and visited items\n",
    "\n",
    "Given the definitions, we may conclude that all iterators are also iterable. However, every iterable is not necessarily an iterator. Lists, tuples, dictionaries, and sets are all iterable objects. They are iterable containers which we can get an iterator from.\n",
    "\n",
    "To demonstrate this functionality, we can produce an iterator by calling the iter() built-in function on the list. "
   ]
  },
  {
   "cell_type": "code",
   "execution_count": 13,
   "id": "7d133a0c",
   "metadata": {},
   "outputs": [
    {
     "name": "stdout",
     "output_type": "stream",
     "text": [
      "1\n",
      "2\n",
      "3\n",
      "4\n",
      "5\n"
     ]
    }
   ],
   "source": [
    "numbers = [1, 2, 3, 4, 5]\n",
    "iterator = iter(numbers)\n",
    "\n",
    "print(next(iterator))\n",
    "print(next(iterator))\n",
    "print(next(iterator))\n",
    "print(next(iterator))\n",
    "print(next(iterator))\n"
   ]
  },
  {
   "cell_type": "code",
   "execution_count": 10,
   "id": "20d9b4fc",
   "metadata": {},
   "outputs": [
    {
     "ename": "StopIteration",
     "evalue": "",
     "output_type": "error",
     "traceback": [
      "\u001b[1;31m---------------------------------------------------------------------------\u001b[0m",
      "\u001b[1;31mStopIteration\u001b[0m                             Traceback (most recent call last)",
      "\u001b[1;32m<ipython-input-10-3997e98d8a3d>\u001b[0m in \u001b[0;36m<module>\u001b[1;34m\u001b[0m\n\u001b[1;32m----> 1\u001b[1;33m \u001b[0mprint\u001b[0m\u001b[1;33m(\u001b[0m\u001b[0miterator\u001b[0m\u001b[1;33m.\u001b[0m\u001b[0m__next__\u001b[0m\u001b[1;33m(\u001b[0m\u001b[1;33m)\u001b[0m\u001b[1;33m)\u001b[0m\u001b[1;33m\u001b[0m\u001b[1;33m\u001b[0m\u001b[0m\n\u001b[0m",
      "\u001b[1;31mStopIteration\u001b[0m: "
     ]
    }
   ],
   "source": [
    "print(iterator.__next__())"
   ]
  },
  {
   "cell_type": "code",
   "execution_count": null,
   "id": "abba4d9c",
   "metadata": {},
   "outputs": [],
   "source": []
  }
 ],
 "metadata": {
  "kernelspec": {
   "display_name": "Python 3",
   "language": "python",
   "name": "python3"
  },
  "language_info": {
   "codemirror_mode": {
    "name": "ipython",
    "version": 3
   },
   "file_extension": ".py",
   "mimetype": "text/x-python",
   "name": "python",
   "nbconvert_exporter": "python",
   "pygments_lexer": "ipython3",
   "version": "3.8.8"
  }
 },
 "nbformat": 4,
 "nbformat_minor": 5
}
