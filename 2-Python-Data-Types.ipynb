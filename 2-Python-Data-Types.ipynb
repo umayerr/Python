{
 "cells": [
  {
   "cell_type": "markdown",
   "id": "e1e5ff0c",
   "metadata": {},
   "source": [
    "# Data Types\n",
    "### 1. Basic data types\n",
    "1. Text type (also known as String)\n",
    "2. Numeric type \\\n",
    "a. Integer \\\n",
    "b. Float \\\n",
    "c. Complex\n",
    "3. Boolean type"
   ]
  },
  {
   "cell_type": "code",
   "execution_count": 1,
   "id": "c3fad812",
   "metadata": {},
   "outputs": [
    {
     "name": "stdout",
     "output_type": "stream",
     "text": [
      "Data: True  |  Data type <class 'str'>\n",
      "Data: 5000  |  Data type <class 'int'>\n",
      "Data: 3.14  |  Data type <class 'float'>\n",
      "Data: 113j  |  Data type <class 'complex'>\n",
      "Data: True  |  Data type <class 'bool'>\n"
     ]
    }
   ],
   "source": [
    "text_data = 'True'\n",
    "print('Data:', text_data, ' | ', 'Data type', type(text_data))\n",
    "\n",
    "integer_data = 5000\n",
    "print('Data:', integer_data, ' | ', 'Data type', type(integer_data))\n",
    "\n",
    "float_data = 3.14\n",
    "print('Data:', float_data, ' | ', 'Data type', type(float_data))\n",
    "\n",
    "complex_data = 113j\n",
    "print('Data:', complex_data, ' | ', 'Data type', type(complex_data))\n",
    "\n",
    "boolean_data = True\n",
    "print('Data:', boolean_data, ' | ', 'Data type', type(boolean_data))"
   ]
  },
  {
   "cell_type": "markdown",
   "id": "4a8bd9ab",
   "metadata": {},
   "source": [
    "### 2. Special data types\n",
    "1. List\n",
    "2. Tuple\n",
    "3. Set\n",
    "4. Dictionary"
   ]
  },
  {
   "cell_type": "code",
   "execution_count": null,
   "id": "7f3f7da1",
   "metadata": {},
   "outputs": [],
   "source": []
  }
 ],
 "metadata": {
  "kernelspec": {
   "display_name": "Python 3",
   "language": "python",
   "name": "python3"
  },
  "language_info": {
   "codemirror_mode": {
    "name": "ipython",
    "version": 3
   },
   "file_extension": ".py",
   "mimetype": "text/x-python",
   "name": "python",
   "nbconvert_exporter": "python",
   "pygments_lexer": "ipython3",
   "version": "3.8.8"
  }
 },
 "nbformat": 4,
 "nbformat_minor": 5
}
