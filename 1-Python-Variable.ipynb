{
 "cells": [
  {
   "cell_type": "markdown",
   "id": "38e7e95d",
   "metadata": {},
   "source": [
    "# Variables:\n",
    "Variables can be thought of as containers that store data. In contrast to other programming languages, Python doesn't require a specific command for variable and its type declaration. Instead, when a value is assigned to a variable, Python creates it automatically based on the data type of the assigned variable."
   ]
  },
  {
   "cell_type": "code",
   "execution_count": 1,
   "id": "7b0233d5",
   "metadata": {},
   "outputs": [
    {
     "name": "stdout",
     "output_type": "stream",
     "text": [
      "Name : John\n",
      "Age : 13\n",
      "Pi : 3.1416\n"
     ]
    }
   ],
   "source": [
    "name = 'John'\n",
    "print('Name :', name)\n",
    "\n",
    "age = 13\n",
    "print('Age :', age)\n",
    "\n",
    "pi = 3.1416\n",
    "print('Pi :', pi)"
   ]
  },
  {
   "cell_type": "markdown",
   "id": "4c6a9417",
   "metadata": {},
   "source": [
    "**Note: *type()*** function returns the type of a variable. For example, *int* for integer type variable, *float* for decimal type variable and *str* for string type variable."
   ]
  },
  {
   "cell_type": "code",
   "execution_count": 2,
   "id": "7e7cbeee",
   "metadata": {},
   "outputs": [
    {
     "name": "stdout",
     "output_type": "stream",
     "text": [
      "Type of variable 'name' : <class 'str'>\n",
      "Type of variable 'age' : <class 'int'>\n",
      "Type of variable 'pi' : <class 'float'>\n"
     ]
    }
   ],
   "source": [
    "print('Type of variable \\'name\\' :', type(name))\n",
    "print('Type of variable \\'age\\' :', type(age))\n",
    "print('Type of variable \\'pi\\' :', type(pi))"
   ]
  },
  {
   "cell_type": "markdown",
   "id": "f2005002",
   "metadata": {},
   "source": [
    "**Rules of declaring variables in Python,**\n",
    "1. The first character of a variable name must be a letter or an underscore.\n",
    "3. A valid variable name can contain alphanumeric characters and underscores only (A-Z, a-z, 0-9, and _ ).\n",
    "4. Variable names are case-sensitive, meaning that variables with different capitalizations such as age, Age, AGE, etc. are considered different.\n",
    "5. Reserved keywords such as *print*, *type*, *def*, etc. cannot be used as variable name."
   ]
  },
  {
   "cell_type": "code",
   "execution_count": null,
   "id": "839f7ea4",
   "metadata": {},
   "outputs": [],
   "source": []
  }
 ],
 "metadata": {
  "kernelspec": {
   "display_name": "Python 3",
   "language": "python",
   "name": "python3"
  },
  "language_info": {
   "codemirror_mode": {
    "name": "ipython",
    "version": 3
   },
   "file_extension": ".py",
   "mimetype": "text/x-python",
   "name": "python",
   "nbconvert_exporter": "python",
   "pygments_lexer": "ipython3",
   "version": "3.8.8"
  }
 },
 "nbformat": 4,
 "nbformat_minor": 5
}
