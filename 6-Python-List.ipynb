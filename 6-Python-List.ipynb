{
 "cells": [
  {
   "cell_type": "markdown",
   "id": "98c45ecd",
   "metadata": {},
   "source": [
    "# List:\n",
    "List is a collection which is ordered and changeable. It allows duplicate members."
   ]
  },
  {
   "cell_type": "markdown",
   "id": "18011a08",
   "metadata": {},
   "source": [
    "### Create a list\n",
    "\n",
    "Using ***[  ]:***"
   ]
  },
  {
   "cell_type": "code",
   "execution_count": 15,
   "id": "7a04ebf5",
   "metadata": {},
   "outputs": [
    {
     "name": "stdout",
     "output_type": "stream",
     "text": [
      "['apple', 'banana', 'cherry', 'kiwi']\n"
     ]
    }
   ],
   "source": [
    "mylist = ['apple', 'banana', 'cherry', 'kiwi']\n",
    "print(mylist)"
   ]
  },
  {
   "cell_type": "markdown",
   "id": "322bc51c",
   "metadata": {},
   "source": [
    "Using ***list():***"
   ]
  },
  {
   "cell_type": "code",
   "execution_count": 22,
   "id": "4a1c4e46",
   "metadata": {},
   "outputs": [
    {
     "name": "stdout",
     "output_type": "stream",
     "text": [
      "['volvo', 'toyota', 'bmw', 'audi']\n"
     ]
    }
   ],
   "source": [
    "mylist = list(('volvo', 'toyota', 'bmw', 'audi'))\n",
    "print(mylist)"
   ]
  },
  {
   "cell_type": "markdown",
   "id": "3b63c340",
   "metadata": {},
   "source": [
    "### Frequency of a specific item in a list"
   ]
  },
  {
   "cell_type": "code",
   "execution_count": 28,
   "id": "e884c667",
   "metadata": {},
   "outputs": [
    {
     "data": {
      "text/plain": [
       "2"
      ]
     },
     "execution_count": 28,
     "metadata": {},
     "output_type": "execute_result"
    }
   ],
   "source": [
    "fruits = ['apple', 'banana', 'cherry', 'kiwi', 'apple']\n",
    "fruits.count('apple')"
   ]
  },
  {
   "cell_type": "markdown",
   "id": "6ffb9565",
   "metadata": {},
   "source": [
    "### Index of an item in a list"
   ]
  },
  {
   "cell_type": "code",
   "execution_count": 30,
   "id": "ef40cd72",
   "metadata": {},
   "outputs": [
    {
     "data": {
      "text/plain": [
       "2"
      ]
     },
     "execution_count": 30,
     "metadata": {},
     "output_type": "execute_result"
    }
   ],
   "source": [
    "fruits = ['apple', 'banana', 'cherry', 'kiwi']\n",
    "fruits.index('cherry')"
   ]
  },
  {
   "cell_type": "markdown",
   "id": "54bb8639",
   "metadata": {},
   "source": [
    "But if an item occurs multiple times then it returns the index for the first occurrence"
   ]
  },
  {
   "cell_type": "code",
   "execution_count": 31,
   "id": "73a11d09",
   "metadata": {},
   "outputs": [
    {
     "data": {
      "text/plain": [
       "1"
      ]
     },
     "execution_count": 31,
     "metadata": {},
     "output_type": "execute_result"
    }
   ],
   "source": [
    "fruits = ['apple', 'banana', 'cherry', 'kiwi', 'banana']\n",
    "fruits.index('banana')"
   ]
  },
  {
   "cell_type": "markdown",
   "id": "b72f26f1",
   "metadata": {},
   "source": [
    "### Access items of a list"
   ]
  },
  {
   "cell_type": "code",
   "execution_count": 2,
   "id": "e50085fd",
   "metadata": {},
   "outputs": [
    {
     "name": "stdout",
     "output_type": "stream",
     "text": [
      "mylist[1] : banana\n",
      "mylist[-1] : kiwi\n"
     ]
    }
   ],
   "source": [
    "mylist = ['apple', 'banana', 'cherry', 'kiwi']\n",
    "print('mylist[1] :', mylist[1])\n",
    "print('mylist[-1] :', mylist[-1])"
   ]
  },
  {
   "cell_type": "markdown",
   "id": "5c063b66",
   "metadata": {},
   "source": [
    "### Slice a list"
   ]
  },
  {
   "cell_type": "code",
   "execution_count": 3,
   "id": "00ea3ac1",
   "metadata": {},
   "outputs": [
    {
     "name": "stdout",
     "output_type": "stream",
     "text": [
      "mylist[:2] : ['apple', 'banana']\n",
      "mylist[1:3] : ['banana', 'cherry']\n",
      "mylist[-3:-1] : ['banana', 'cherry']\n",
      "mylist[2:] : ['cherry', 'kiwi']\n"
     ]
    }
   ],
   "source": [
    "mylist = ['apple', 'banana', 'cherry', 'kiwi']\n",
    "print('mylist[:2] :', mylist[:2])\n",
    "print('mylist[1:3] :', mylist[1:3])\n",
    "print('mylist[-3:-1] :', mylist[-3:-1])\n",
    "print('mylist[2:] :', mylist[2:])"
   ]
  },
  {
   "cell_type": "markdown",
   "id": "c3ffed15",
   "metadata": {},
   "source": [
    "### Change items of a list"
   ]
  },
  {
   "cell_type": "code",
   "execution_count": 4,
   "id": "f48efd2b",
   "metadata": {},
   "outputs": [
    {
     "name": "stdout",
     "output_type": "stream",
     "text": [
      "['apple', 'kiwi', 'cherry']\n"
     ]
    }
   ],
   "source": [
    "mylist = ['apple', 'banana', 'cherry']\n",
    "mylist[1] = 'kiwi'\n",
    "print(mylist)"
   ]
  },
  {
   "cell_type": "markdown",
   "id": "964acbc2",
   "metadata": {},
   "source": [
    "### Check the presence of items in a list"
   ]
  },
  {
   "cell_type": "code",
   "execution_count": 5,
   "id": "cf14d6bf",
   "metadata": {},
   "outputs": [
    {
     "name": "stdout",
     "output_type": "stream",
     "text": [
      "True\n"
     ]
    }
   ],
   "source": [
    "mylist = ['apple', 'banana', 'cherry']\n",
    "print('apple' in mylist)"
   ]
  },
  {
   "cell_type": "markdown",
   "id": "3d8fe67c",
   "metadata": {},
   "source": [
    "### Length of a list"
   ]
  },
  {
   "cell_type": "code",
   "execution_count": 6,
   "id": "72847ae7",
   "metadata": {},
   "outputs": [
    {
     "name": "stdout",
     "output_type": "stream",
     "text": [
      "3\n"
     ]
    }
   ],
   "source": [
    "mylist = ['apple', 'banana', 'cherry']\n",
    "print(len(mylist))"
   ]
  },
  {
   "cell_type": "markdown",
   "id": "890af1e8",
   "metadata": {},
   "source": [
    "### Add items to a list\n",
    "Add an item to the end of the list"
   ]
  },
  {
   "cell_type": "code",
   "execution_count": 7,
   "id": "ea5ddcf9",
   "metadata": {},
   "outputs": [
    {
     "name": "stdout",
     "output_type": "stream",
     "text": [
      "['apple', 'kiwi', 'cherry']\n"
     ]
    }
   ],
   "source": [
    "mylist = ['apple', 'kiwi']\n",
    "mylist.append('cherry')\n",
    "print(mylist)"
   ]
  },
  {
   "cell_type": "markdown",
   "id": "0c2ad467",
   "metadata": {},
   "source": [
    "Add an item at the specified index"
   ]
  },
  {
   "cell_type": "code",
   "execution_count": 8,
   "id": "6c81283c",
   "metadata": {},
   "outputs": [
    {
     "name": "stdout",
     "output_type": "stream",
     "text": [
      "['apple', 'cherry', 'kiwi']\n"
     ]
    }
   ],
   "source": [
    "mylist = ['apple', 'kiwi']\n",
    "mylist.insert(1, 'cherry')\n",
    "print(mylist)"
   ]
  },
  {
   "cell_type": "markdown",
   "id": "c1928b3a",
   "metadata": {},
   "source": [
    "### Remove items from a list\n",
    "***remove()*:** Remove item by its name"
   ]
  },
  {
   "cell_type": "code",
   "execution_count": 1,
   "id": "38a27508",
   "metadata": {},
   "outputs": [
    {
     "name": "stdout",
     "output_type": "stream",
     "text": [
      "['apple', 'cherry']\n"
     ]
    }
   ],
   "source": [
    "mylist = ['apple', 'banana', 'cherry']\n",
    "mylist.remove('banana')\n",
    "print(mylist)"
   ]
  },
  {
   "cell_type": "markdown",
   "id": "1dafcce2",
   "metadata": {},
   "source": [
    "***pop():*** Remove item by its index number"
   ]
  },
  {
   "cell_type": "code",
   "execution_count": 3,
   "id": "212bf683",
   "metadata": {},
   "outputs": [
    {
     "name": "stdout",
     "output_type": "stream",
     "text": [
      "['banana', 'cherry']\n"
     ]
    }
   ],
   "source": [
    "mylist = ['apple', 'banana', 'cherry']\n",
    "mylist.pop(0)\n",
    "print(mylist)"
   ]
  },
  {
   "cell_type": "markdown",
   "id": "7a99d87c",
   "metadata": {},
   "source": [
    "By default (if index number is not given), it takes the value of last index out"
   ]
  },
  {
   "cell_type": "code",
   "execution_count": 5,
   "id": "ba9305c0",
   "metadata": {},
   "outputs": [
    {
     "name": "stdout",
     "output_type": "stream",
     "text": [
      "['apple', 'banana']\n"
     ]
    }
   ],
   "source": [
    "mylist = ['apple', 'banana', 'cherry']\n",
    "mylist.pop()\n",
    "print(mylist)"
   ]
  },
  {
   "cell_type": "markdown",
   "id": "4385fd7e",
   "metadata": {},
   "source": [
    "***del:*** Delete item by its index number"
   ]
  },
  {
   "cell_type": "code",
   "execution_count": 6,
   "id": "f80e21fd",
   "metadata": {},
   "outputs": [
    {
     "name": "stdout",
     "output_type": "stream",
     "text": [
      "['banana', 'cherry']\n"
     ]
    }
   ],
   "source": [
    "mylist = ['apple', 'banana', 'cherry']\n",
    "del mylist[0]\n",
    "print(mylist)"
   ]
  },
  {
   "cell_type": "markdown",
   "id": "35fbca26",
   "metadata": {},
   "source": [
    "### Delete a list completely"
   ]
  },
  {
   "cell_type": "code",
   "execution_count": 7,
   "id": "0824e081",
   "metadata": {},
   "outputs": [
    {
     "ename": "NameError",
     "evalue": "name 'mylist' is not defined",
     "output_type": "error",
     "traceback": [
      "\u001b[1;31m---------------------------------------------------------------------------\u001b[0m",
      "\u001b[1;31mNameError\u001b[0m                                 Traceback (most recent call last)",
      "\u001b[1;32m<ipython-input-7-b267a17c7af6>\u001b[0m in \u001b[0;36m<module>\u001b[1;34m\u001b[0m\n\u001b[0;32m      1\u001b[0m \u001b[0mmylist\u001b[0m \u001b[1;33m=\u001b[0m \u001b[1;33m[\u001b[0m\u001b[1;34m'apple'\u001b[0m\u001b[1;33m,\u001b[0m \u001b[1;34m'banana'\u001b[0m\u001b[1;33m,\u001b[0m \u001b[1;34m'cherry'\u001b[0m\u001b[1;33m]\u001b[0m\u001b[1;33m\u001b[0m\u001b[1;33m\u001b[0m\u001b[0m\n\u001b[0;32m      2\u001b[0m \u001b[1;32mdel\u001b[0m \u001b[0mmylist\u001b[0m\u001b[1;33m\u001b[0m\u001b[1;33m\u001b[0m\u001b[0m\n\u001b[1;32m----> 3\u001b[1;33m \u001b[0mprint\u001b[0m\u001b[1;33m(\u001b[0m\u001b[0mmylist\u001b[0m\u001b[1;33m)\u001b[0m\u001b[1;33m\u001b[0m\u001b[1;33m\u001b[0m\u001b[0m\n\u001b[0m",
      "\u001b[1;31mNameError\u001b[0m: name 'mylist' is not defined"
     ]
    }
   ],
   "source": [
    "mylist = ['apple', 'banana', 'cherry']\n",
    "del mylist\n",
    "print(mylist)"
   ]
  },
  {
   "cell_type": "markdown",
   "id": "3eccd31a",
   "metadata": {},
   "source": [
    "### Empty a list by deleting all items"
   ]
  },
  {
   "cell_type": "code",
   "execution_count": 8,
   "id": "466cb126",
   "metadata": {},
   "outputs": [
    {
     "name": "stdout",
     "output_type": "stream",
     "text": [
      "[]\n"
     ]
    }
   ],
   "source": [
    "mylist = ['apple', 'banana', 'cherry']\n",
    "mylist.clear()\n",
    "print(mylist)"
   ]
  },
  {
   "cell_type": "markdown",
   "id": "a4d023c4",
   "metadata": {},
   "source": [
    "### Copy a list\n",
    "\n",
    "There are two types of copy in Python: ***1)*** shallow copy and ***2)*** deep copy \n",
    "\n",
    "A ***deep copy*** constructs a new compound object and then, recursively, inserts copies into it of the objects found in the original. So, the original object and the new object are completely different and change in original object does not change the new object.\n",
    "\n",
    "Using ***copy():*** "
   ]
  },
  {
   "cell_type": "code",
   "execution_count": 20,
   "id": "2d646b62",
   "metadata": {},
   "outputs": [
    {
     "name": "stdout",
     "output_type": "stream",
     "text": [
      "['apple', 'banana', 'cherry']\n"
     ]
    }
   ],
   "source": [
    "mylist1 = ['apple', 'banana', 'cherry']\n",
    "mylist2 = mylist1.copy()\n",
    "print(mylist2)"
   ]
  },
  {
   "cell_type": "markdown",
   "id": "9ee86e77",
   "metadata": {},
   "source": [
    "We can verify the deep copy by printing the memory location of two variables. The memory location will be different."
   ]
  },
  {
   "cell_type": "code",
   "execution_count": 33,
   "id": "f025b09d",
   "metadata": {},
   "outputs": [
    {
     "name": "stdout",
     "output_type": "stream",
     "text": [
      "Memory location for mylist1: 2522911095616\n",
      "Memory location for mylist2: 2522911749184\n"
     ]
    }
   ],
   "source": [
    "mylist1 = ['apple', 'banana', 'cherry']\n",
    "mylist2 = mylist1.copy()\n",
    "print('Memory location for mylist1:', id(mylist1))\n",
    "print('Memory location for mylist2:', id(mylist2))"
   ]
  },
  {
   "cell_type": "markdown",
   "id": "8b644aef",
   "metadata": {},
   "source": [
    "Using ***list():*** "
   ]
  },
  {
   "cell_type": "code",
   "execution_count": 18,
   "id": "f7b3be58",
   "metadata": {},
   "outputs": [
    {
     "name": "stdout",
     "output_type": "stream",
     "text": [
      "['toyota', 'honda', 'volvo']\n"
     ]
    }
   ],
   "source": [
    "mylist1 = ['toyota', 'honda', 'volvo']\n",
    "mylist2 = list(mylist1)\n",
    "print(mylist2)"
   ]
  },
  {
   "cell_type": "markdown",
   "id": "c04791c3",
   "metadata": {},
   "source": [
    "We can verify the deep copy by printing the memory location of two variables. The memory location will be different."
   ]
  },
  {
   "cell_type": "code",
   "execution_count": 34,
   "id": "6a9bcf6d",
   "metadata": {},
   "outputs": [
    {
     "name": "stdout",
     "output_type": "stream",
     "text": [
      "Memory location for mylist1: 2522911608128\n",
      "Memory location for mylist2: 2522912488576\n"
     ]
    }
   ],
   "source": [
    "mylist1 = ['toyota', 'honda', 'volvo']\n",
    "mylist2 = list(mylist1)\n",
    "print('Memory location for mylist1:', id(mylist1))\n",
    "print('Memory location for mylist2:', id(mylist2))"
   ]
  },
  {
   "cell_type": "markdown",
   "id": "a2a2a361",
   "metadata": {},
   "source": [
    "A ***shallow copy*** constructs a new compound object and then (to the extent possible) inserts references into it to the objects found in the original. So, the original object and the new object point the same reference and changes in any object means the changes in the reference which eventually impacts both objects.\n",
    "\n",
    "Using ***'=' :***"
   ]
  },
  {
   "cell_type": "code",
   "execution_count": 16,
   "id": "7e5541db",
   "metadata": {},
   "outputs": [
    {
     "name": "stdout",
     "output_type": "stream",
     "text": [
      "List2 before udating List1: ['apple', 'banana', 'cherry']\n",
      "List2 after udating List1: ['apple', 'volvo', 'cherry']\n"
     ]
    }
   ],
   "source": [
    "mylist1 = ['apple', 'banana', 'cherry']\n",
    "mylist2 = mylist1\n",
    "print('List2 before udating List1:', mylist2)\n",
    "\n",
    "mylist1[1] = 'volvo'\n",
    "print('List2 after udating List1:', mylist2)"
   ]
  },
  {
   "cell_type": "markdown",
   "id": "e6064216",
   "metadata": {},
   "source": [
    "We can verify the shallow copy by printing the memory location of two variables. The memory location will be same in this case."
   ]
  },
  {
   "cell_type": "code",
   "execution_count": 35,
   "id": "38c6d321",
   "metadata": {},
   "outputs": [
    {
     "name": "stdout",
     "output_type": "stream",
     "text": [
      "Memory location for mylist1: 2522911095616\n",
      "Memory location for mylist2: 2522911095616\n"
     ]
    }
   ],
   "source": [
    "mylist1 = ['apple', 'banana', 'cherry']\n",
    "mylist2 = mylist1\n",
    "print('Memory location for mylist1:', id(mylist1))\n",
    "print('Memory location for mylist2:', id(mylist2))"
   ]
  },
  {
   "cell_type": "markdown",
   "id": "253784e7",
   "metadata": {},
   "source": [
    "We can also use ***import copy*** module for shallow and deep copy operations."
   ]
  },
  {
   "cell_type": "markdown",
   "id": "202d7d7e",
   "metadata": {},
   "source": [
    "### Concatenate two lists\n",
    "Using ***'+' :***"
   ]
  },
  {
   "cell_type": "code",
   "execution_count": 13,
   "id": "8432eeb4",
   "metadata": {},
   "outputs": [
    {
     "name": "stdout",
     "output_type": "stream",
     "text": [
      "['a', 'b', 'c', 1, 2, 3]\n"
     ]
    }
   ],
   "source": [
    "list1 = ['a', 'b' , 'c']\n",
    "list2 = [1, 2, 3]\n",
    "new_list = list1 + list2\n",
    "print(new_list)"
   ]
  },
  {
   "cell_type": "markdown",
   "id": "be95f87e",
   "metadata": {},
   "source": [
    "Using ***extend():***"
   ]
  },
  {
   "cell_type": "code",
   "execution_count": 11,
   "id": "054de9f2",
   "metadata": {},
   "outputs": [
    {
     "name": "stdout",
     "output_type": "stream",
     "text": [
      "['x', 'y', 'z', 1, 2, 3]\n"
     ]
    }
   ],
   "source": [
    "list1 = ['x', 'y' , 'z']\n",
    "list2 = [1, 2, 3]\n",
    "list1.extend(list2)\n",
    "print(list1)"
   ]
  },
  {
   "cell_type": "markdown",
   "id": "926cf6a9",
   "metadata": {},
   "source": [
    "Using ***loop:***"
   ]
  },
  {
   "cell_type": "code",
   "execution_count": 12,
   "id": "50928107",
   "metadata": {},
   "outputs": [
    {
     "name": "stdout",
     "output_type": "stream",
     "text": [
      "['a', 'b', 'c', 'x', 'y', 'z']\n"
     ]
    }
   ],
   "source": [
    "list1 = ['a', 'b' , 'c']\n",
    "list2 = ['x', 'y' , 'z']\n",
    "\n",
    "for x in list2:\n",
    "    list1.append(x)\n",
    "print(list1) "
   ]
  },
  {
   "cell_type": "code",
   "execution_count": null,
   "id": "9bf45945",
   "metadata": {},
   "outputs": [],
   "source": []
  }
 ],
 "metadata": {
  "kernelspec": {
   "display_name": "Python 3",
   "language": "python",
   "name": "python3"
  },
  "language_info": {
   "codemirror_mode": {
    "name": "ipython",
    "version": 3
   },
   "file_extension": ".py",
   "mimetype": "text/x-python",
   "name": "python",
   "nbconvert_exporter": "python",
   "pygments_lexer": "ipython3",
   "version": "3.8.8"
  }
 },
 "nbformat": 4,
 "nbformat_minor": 5
}
