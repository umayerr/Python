{
 "cells": [
  {
   "cell_type": "markdown",
   "id": "5fcc8b9a",
   "metadata": {},
   "source": [
    "# Exception Handling (Try-Except)\n",
    "\n",
    "In Python, errors can be roughly classified into two main types:\n",
    "\n",
    "1. Syntax Errors: These are also known as parsing errors caused by incorrect grammar in the code. Syntax errors are detected by the Python interpreter and halt the execution of the program.\n",
    "2. Exceptions: Exceptions occur when something goes wrong during the execution of a program, even if the code is syntactically correct. These can include logical errors or runtime errors such as invalid inputs or division by zero.\n",
    "\n",
    "Exception handling is a mechanism that allows to handle exceptions that may occur during the execution of the program. The key components of exception handling in Python are ***try***, ***except***, ***else***, and ***finally***.\n",
    "\n",
    "1. ***try***: The try block contains the code that might generate an error or exception. When the code runs without any issue within the try block, the except block is bypassed. \n",
    "2. ***except***: If an error or exception occurs within the try block, the code written in the except block will execute to address the issue.\n",
    "3. ***else***: The else clause allows to execute the block of code when there are no errors in the try block.\n",
    "4. ***finally***: The finally block lets the code to execute, regardless of the result of the try and except blocks. This can be useful for the actions that need to perform whether or not an exception was raised."
   ]
  },
  {
   "cell_type": "code",
   "execution_count": 10,
   "id": "c0a9d7b9",
   "metadata": {},
   "outputs": [
    {
     "name": "stdout",
     "output_type": "stream",
     "text": [
      "Error: Division by zero is not allowed.\n"
     ]
    }
   ],
   "source": [
    "def divide_numbers(a, b):\n",
    "    try:\n",
    "        result = a / b\n",
    "        print(f'{a}/{b} is:', result)\n",
    "    except ZeroDivisionError:\n",
    "        print(\"Error: Division by zero is not allowed.\")\n",
    "        \n",
    "divide_numbers(2,0)"
   ]
  },
  {
   "cell_type": "markdown",
   "id": "8a5b82c6",
   "metadata": {},
   "source": [
    "### Multiple Except\n",
    "\n",
    "A try statement can have more than one except clause"
   ]
  },
  {
   "cell_type": "code",
   "execution_count": 15,
   "id": "aea348f1",
   "metadata": {},
   "outputs": [
    {
     "name": "stdout",
     "output_type": "stream",
     "text": [
      "Error: Parameters must be number.\n"
     ]
    }
   ],
   "source": [
    "def divide_numbers(a, b):\n",
    "    try:\n",
    "        result = a / b\n",
    "        print(f'{a}/{b} is:', result)\n",
    "    except ZeroDivisionError:\n",
    "        print(\"Error: Division by zero is not allowed.\")\n",
    "    except TypeError:\n",
    "        print(\"Error: Parameters must be number.\")\n",
    "        \n",
    "divide_numbers(2,'0')"
   ]
  },
  {
   "cell_type": "markdown",
   "id": "0fe5375d",
   "metadata": {},
   "source": [
    "### General Except\n",
    "A general except statement can be used to handle all exceptions."
   ]
  },
  {
   "cell_type": "code",
   "execution_count": 17,
   "id": "787fea5e",
   "metadata": {},
   "outputs": [
    {
     "name": "stdout",
     "output_type": "stream",
     "text": [
      "Error: Something wrong in given parameters.\n"
     ]
    }
   ],
   "source": [
    "def divide_numbers(a, b):\n",
    "    try:\n",
    "        result = a / b\n",
    "        print(f'{a}/{b} is:', result)\n",
    "    except:\n",
    "        print(\"Error: Something wrong in given parameters.\")\n",
    "        \n",
    "divide_numbers(2,0)"
   ]
  },
  {
   "cell_type": "markdown",
   "id": "2d7f3ec3",
   "metadata": {},
   "source": [
    "### Try-Except with Else and Finally"
   ]
  },
  {
   "cell_type": "code",
   "execution_count": 21,
   "id": "5dcf60f2",
   "metadata": {},
   "outputs": [
    {
     "name": "stdout",
     "output_type": "stream",
     "text": [
      "2/7 is: 0.2857142857142857\n",
      "Execution done\n"
     ]
    }
   ],
   "source": [
    "def divide_numbers(a, b):\n",
    "    try:\n",
    "        result = a / b\n",
    "    except ZeroDivisionError:\n",
    "        print(\"Error: Division by zero is not allowed.\")\n",
    "    except TypeError:\n",
    "        print(\"Error: Parameters must be number.\")\n",
    "    else:\n",
    "        print(f'{a}/{b} is:', result)\n",
    "    finally:\n",
    "        print('Execution done')\n",
    "        \n",
    "divide_numbers(2, 7)"
   ]
  },
  {
   "cell_type": "markdown",
   "id": "cb6ba523",
   "metadata": {},
   "source": [
    "### Raise an Exception\n",
    "\n",
    "In Python, the raise keyword is used to explicitly raise an exception. This allows the code to signal that a certain condition has occurred and should be handled by an exception handler. Here's an example:"
   ]
  },
  {
   "cell_type": "code",
   "execution_count": 7,
   "id": "bbaeff59",
   "metadata": {},
   "outputs": [
    {
     "name": "stdout",
     "output_type": "stream",
     "text": [
      "Enter a positive number: -8\n",
      "Error: Input must be a positive number.\n"
     ]
    }
   ],
   "source": [
    "def check_positive_number(value):\n",
    "    if not isinstance(value, (int, float)) or value <= 0:\n",
    "        raise ValueError(\"Input must be a positive number.\")\n",
    "    else:\n",
    "        return value\n",
    "\n",
    "# Example usage\n",
    "try:\n",
    "    user_input = float(input(\"Enter a positive number: \"))\n",
    "    positive_number = check_positive_number(user_input)\n",
    "    print(f\"Entered positive number: {positive_number}\")\n",
    "except ValueError as ve:\n",
    "    print(f\"Error: {str(ve)}\")"
   ]
  },
  {
   "cell_type": "markdown",
   "id": "c200ae2f",
   "metadata": {},
   "source": [
    "In this example:\n",
    "\n",
    "The ***check_positive_number*** function checks whether the input is a positive number. If not, it raises a ***ValueError*** with a corresponding error message.\n",
    "\n",
    "In the ***try*** block, user input is obtained, and the ***check_positive_number*** function is called. If the input is not a positive number, the ***ValueError*** is raised.\n",
    "\n",
    "The ***except*** block catches the ***ValueError*** and prints an error message.\n",
    "\n",
    "When the program is executed, if user enters a non-positive number, the ***check_positive_number*** function will raise a ***ValueError***, and the program will enter the ***except*** block to handle the exception.\n",
    "\n",
    "### Try-Except vs Raise\n",
    "\n",
    "In Python, ***try***, ***except***, and ***raise*** are tools used for exception handling, but they serve different purposes.\n",
    "\n",
    "We use ***try*** and ***except*** when we anticipate and want to handle specific exceptions that might occur during the execution of the code. In that case, we expect certain errors, and we provide a block of code to handle those errors gracefully. It's about dealing with known issues and preventing the program from crashing.\n",
    "\n",
    "On the other hand, we use ***raise*** when we want to explicitly raise an exception based on a certain condition that the code detects. That is useful when we want to force an exception to happen. We can create and raise our own exceptions or use built-in ones. Here's an example:"
   ]
  },
  {
   "cell_type": "code",
   "execution_count": 23,
   "id": "e0d3f1b6",
   "metadata": {},
   "outputs": [
    {
     "name": "stdout",
     "output_type": "stream",
     "text": [
      "Enter your age: d\n",
      "ERROR: Invalid age was entered.\n"
     ]
    }
   ],
   "source": [
    "try:\n",
    "    age = int(input('Enter your age: '))  \n",
    "    if age < 0 or age > 100:\n",
    "        raise Exception('Age range either less than 0 or higher than 100.')\n",
    "except ValueError:\n",
    "    print('ERROR: Invalid age was entered.')\n",
    "except Exception as e:\n",
    "    print(f'ERROR: {e}')\n",
    "else:\n",
    "    print(f'You are {age} years old.')"
   ]
  },
  {
   "cell_type": "code",
   "execution_count": null,
   "id": "6ad69a98",
   "metadata": {},
   "outputs": [],
   "source": []
  }
 ],
 "metadata": {
  "kernelspec": {
   "display_name": "Python 3",
   "language": "python",
   "name": "python3"
  },
  "language_info": {
   "codemirror_mode": {
    "name": "ipython",
    "version": 3
   },
   "file_extension": ".py",
   "mimetype": "text/x-python",
   "name": "python",
   "nbconvert_exporter": "python",
   "pygments_lexer": "ipython3",
   "version": "3.8.8"
  }
 },
 "nbformat": 4,
 "nbformat_minor": 5
}
