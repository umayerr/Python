{
 "cells": [
  {
   "cell_type": "markdown",
   "id": "71a11711",
   "metadata": {},
   "source": [
    "# Set\n",
    "\n",
    "* Sets are unordered, so it cannot be sure in which order the items will appear.\n",
    "* Sets are unindexed, so items in a set cannot be accessed by referring to an index or a key.\n",
    "* Sets do not allow duplicate members.\n",
    "* Items cannot be changed once a set is created. But new items can be added."
   ]
  },
  {
   "cell_type": "markdown",
   "id": "3267ac6e",
   "metadata": {},
   "source": [
    "### Create a set\n",
    "\n",
    "Using ***{  }:***"
   ]
  },
  {
   "cell_type": "code",
   "execution_count": 4,
   "id": "fede6a60",
   "metadata": {},
   "outputs": [
    {
     "name": "stdout",
     "output_type": "stream",
     "text": [
      "{'banana', 'apple', 'cherry'}\n"
     ]
    }
   ],
   "source": [
    "fruits = {'apple', 'banana', 'cherry'}\n",
    "print(fruits)"
   ]
  },
  {
   "cell_type": "markdown",
   "id": "4a28673c",
   "metadata": {},
   "source": [
    "Using ***set():***"
   ]
  },
  {
   "cell_type": "code",
   "execution_count": 6,
   "id": "411b9d0f",
   "metadata": {},
   "outputs": [
    {
     "name": "stdout",
     "output_type": "stream",
     "text": [
      "{'banana', 'apple', 'cherry'}\n"
     ]
    }
   ],
   "source": [
    "fruits = set(('apple', 'banana', 'cherry'))\n",
    "print(fruits)"
   ]
  },
  {
   "cell_type": "markdown",
   "id": "436a267a",
   "metadata": {},
   "source": [
    "### Frequency and Index of set items\n",
    "Set object does not have 'index' and 'count' attributes as it is unindexed and does not allow duplicate values."
   ]
  },
  {
   "cell_type": "markdown",
   "id": "1564e868",
   "metadata": {},
   "source": [
    "### Access items of a set\n",
    "\n",
    "We cannot access set items by index number as sets are unindexed. The only way of accessing set items is loop."
   ]
  },
  {
   "cell_type": "code",
   "execution_count": 9,
   "id": "8cce1da2",
   "metadata": {},
   "outputs": [
    {
     "name": "stdout",
     "output_type": "stream",
     "text": [
      "banana\n",
      "apple\n",
      "cherry\n"
     ]
    }
   ],
   "source": [
    "fruits = {'apple', 'banana', 'cherry'}\n",
    "\n",
    "for item in fruits:\n",
    "    print(item)"
   ]
  },
  {
   "cell_type": "markdown",
   "id": "71f1e048",
   "metadata": {},
   "source": [
    "### Slice a set and Change items of a set\n",
    "\n",
    "As sets are unindexed, we cannot slice sets. Items of a set cannot be changed once created. But new items can be added in a set."
   ]
  },
  {
   "cell_type": "markdown",
   "id": "2f0b9bef",
   "metadata": {},
   "source": [
    "### Check the presence of items in a set"
   ]
  },
  {
   "cell_type": "code",
   "execution_count": 10,
   "id": "280ba517",
   "metadata": {},
   "outputs": [
    {
     "name": "stdout",
     "output_type": "stream",
     "text": [
      "False\n"
     ]
    }
   ],
   "source": [
    "fruits = {'apple', 'banana', 'cherry'}\n",
    "print('orange' in fruits)"
   ]
  },
  {
   "cell_type": "markdown",
   "id": "48d01ffa",
   "metadata": {},
   "source": [
    "### Length of a set"
   ]
  },
  {
   "cell_type": "code",
   "execution_count": 12,
   "id": "95f31bca",
   "metadata": {},
   "outputs": [
    {
     "name": "stdout",
     "output_type": "stream",
     "text": [
      "3\n"
     ]
    }
   ],
   "source": [
    "fruits = {'apple', 'banana', 'cherry'}\n",
    "print(len(fruits))"
   ]
  },
  {
   "cell_type": "markdown",
   "id": "a7eac17d",
   "metadata": {},
   "source": [
    "### Add items to a set\n",
    "\n",
    "Add a single item using ***add():***"
   ]
  },
  {
   "cell_type": "code",
   "execution_count": 13,
   "id": "69bb2314",
   "metadata": {},
   "outputs": [
    {
     "name": "stdout",
     "output_type": "stream",
     "text": [
      "{'banana', 'orange', 'apple', 'cherry'}\n"
     ]
    }
   ],
   "source": [
    "fruits = {'apple', 'banana', 'cherry'}\n",
    "fruits.add('orange')\n",
    "print(fruits) "
   ]
  },
  {
   "cell_type": "markdown",
   "id": "573ab60e",
   "metadata": {},
   "source": [
    "Add multiple items using ***update():***"
   ]
  },
  {
   "cell_type": "code",
   "execution_count": 14,
   "id": "d82e1ee9",
   "metadata": {},
   "outputs": [
    {
     "name": "stdout",
     "output_type": "stream",
     "text": [
      "{'orange', 'cherry', 'banana', 'mango', 'apple'}\n"
     ]
    }
   ],
   "source": [
    "fruits = {'apple', 'banana', 'cherry'}\n",
    "fruits.update({'orange', 'mango'})\n",
    "print(fruits)"
   ]
  },
  {
   "cell_type": "markdown",
   "id": "1cd38b10",
   "metadata": {},
   "source": [
    "Not only set, any iterable object (tuples, lists, dictionaries etc.) can be passed through ***update():***"
   ]
  },
  {
   "cell_type": "code",
   "execution_count": 15,
   "id": "94eb07f2",
   "metadata": {},
   "outputs": [
    {
     "name": "stdout",
     "output_type": "stream",
     "text": [
      "{'orange', 'mango', 'banana', 'apple', 'cherry'}\n"
     ]
    }
   ],
   "source": [
    "fruits = {'apple', 'banana', 'cherry'}\n",
    "fruits.update(['orange', 'mango'])\n",
    "print(fruits)"
   ]
  },
  {
   "cell_type": "markdown",
   "id": "03d3f78b",
   "metadata": {},
   "source": [
    "### Remove items from a set\n",
    "\n",
    "***remove():*** Remove item by its name"
   ]
  },
  {
   "cell_type": "code",
   "execution_count": 17,
   "id": "2e043006",
   "metadata": {},
   "outputs": [
    {
     "name": "stdout",
     "output_type": "stream",
     "text": [
      "{'orange', 'apple', 'cherry'}\n"
     ]
    }
   ],
   "source": [
    "fruits = {'apple', 'banana', 'cherry', 'orange'}\n",
    "fruits.remove('banana')\n",
    "print(fruits)"
   ]
  },
  {
   "cell_type": "markdown",
   "id": "8ce7accd",
   "metadata": {},
   "source": [
    "***discard():*** Remove item by its name"
   ]
  },
  {
   "cell_type": "code",
   "execution_count": 18,
   "id": "ea90a5f1",
   "metadata": {},
   "outputs": [
    {
     "name": "stdout",
     "output_type": "stream",
     "text": [
      "{'banana', 'orange', 'cherry'}\n"
     ]
    }
   ],
   "source": [
    "fruits = {'apple', 'banana', 'cherry', 'orange'}\n",
    "fruits.discard('apple')\n",
    "print(fruits)"
   ]
  },
  {
   "cell_type": "markdown",
   "id": "cd123505",
   "metadata": {},
   "source": [
    "***pop():*** As sets are unordered, it removes random item"
   ]
  },
  {
   "cell_type": "code",
   "execution_count": 21,
   "id": "2f0510cc",
   "metadata": {},
   "outputs": [
    {
     "name": "stdout",
     "output_type": "stream",
     "text": [
      "{'orange', 'apple', 'cherry'}\n"
     ]
    }
   ],
   "source": [
    "fruits = {'apple', 'banana', 'cherry', 'orange'}\n",
    "fruits.pop()\n",
    "print(fruits)"
   ]
  },
  {
   "cell_type": "markdown",
   "id": "6a7671c0",
   "metadata": {},
   "source": [
    "### Delete a set completely"
   ]
  },
  {
   "cell_type": "code",
   "execution_count": 22,
   "id": "a2e9b39c",
   "metadata": {},
   "outputs": [
    {
     "ename": "NameError",
     "evalue": "name 'fruits' is not defined",
     "output_type": "error",
     "traceback": [
      "\u001b[1;31m---------------------------------------------------------------------------\u001b[0m",
      "\u001b[1;31mNameError\u001b[0m                                 Traceback (most recent call last)",
      "\u001b[1;32m<ipython-input-22-1b509252c7b2>\u001b[0m in \u001b[0;36m<module>\u001b[1;34m\u001b[0m\n\u001b[0;32m      1\u001b[0m \u001b[0mfruits\u001b[0m \u001b[1;33m=\u001b[0m \u001b[1;33m{\u001b[0m\u001b[1;34m'apple'\u001b[0m\u001b[1;33m,\u001b[0m \u001b[1;34m'banana'\u001b[0m\u001b[1;33m,\u001b[0m \u001b[1;34m'cherry'\u001b[0m\u001b[1;33m}\u001b[0m\u001b[1;33m\u001b[0m\u001b[1;33m\u001b[0m\u001b[0m\n\u001b[0;32m      2\u001b[0m \u001b[1;32mdel\u001b[0m \u001b[0mfruits\u001b[0m\u001b[1;33m\u001b[0m\u001b[1;33m\u001b[0m\u001b[0m\n\u001b[1;32m----> 3\u001b[1;33m \u001b[0mprint\u001b[0m\u001b[1;33m(\u001b[0m\u001b[0mfruits\u001b[0m\u001b[1;33m)\u001b[0m\u001b[1;33m\u001b[0m\u001b[1;33m\u001b[0m\u001b[0m\n\u001b[0m",
      "\u001b[1;31mNameError\u001b[0m: name 'fruits' is not defined"
     ]
    }
   ],
   "source": [
    "fruits = {'apple', 'banana', 'cherry'}\n",
    "del fruits\n",
    "print(fruits)"
   ]
  },
  {
   "cell_type": "markdown",
   "id": "060440f3",
   "metadata": {},
   "source": [
    "### Empty a set by deleting all items"
   ]
  },
  {
   "cell_type": "code",
   "execution_count": 23,
   "id": "e33b7034",
   "metadata": {},
   "outputs": [
    {
     "name": "stdout",
     "output_type": "stream",
     "text": [
      "set()\n"
     ]
    }
   ],
   "source": [
    "fruits = {\"apple\", \"banana\", \"cherry\"}\n",
    "fruits.clear()\n",
    "print(fruits)"
   ]
  },
  {
   "cell_type": "markdown",
   "id": "ef0f9313",
   "metadata": {},
   "source": [
    "### Copy a set\n",
    "\n",
    "There are two types of copy in Python: ***1)*** shallow copy and ***2)*** deep copy \n",
    "\n",
    "A ***deep copy*** constructs a new compound object and then, recursively, inserts copies into it of the objects found in the original. So, the original object and the new object are completely different and change in original object does not change the new object.\n",
    "\n",
    "Using ***copy():*** "
   ]
  },
  {
   "cell_type": "code",
   "execution_count": 28,
   "id": "380faa6a",
   "metadata": {},
   "outputs": [
    {
     "name": "stdout",
     "output_type": "stream",
     "text": [
      "{'banana', 'apple', 'cherry'}\n"
     ]
    }
   ],
   "source": [
    "set1 = {\"apple\", \"banana\", \"cherry\"}\n",
    "set2 = set1.copy()\n",
    "print(set2)"
   ]
  },
  {
   "cell_type": "markdown",
   "id": "2ba8114e",
   "metadata": {},
   "source": [
    "We can verify the deep copy by printing the memory location of two variables. The memory location will be different."
   ]
  },
  {
   "cell_type": "code",
   "execution_count": 29,
   "id": "278579cd",
   "metadata": {},
   "outputs": [
    {
     "name": "stdout",
     "output_type": "stream",
     "text": [
      "Memory location for set1: 2356428417728\n",
      "Memory location for set2: 2356428416608\n"
     ]
    }
   ],
   "source": [
    "set1 = {\"apple\", \"banana\", \"cherry\"}\n",
    "set2 = set1.copy()\n",
    "print('Memory location for set1:', id(set1))\n",
    "print('Memory location for set2:', id(set2))"
   ]
  },
  {
   "cell_type": "markdown",
   "id": "a24fc2ba",
   "metadata": {},
   "source": [
    "A ***shallow copy*** constructs a new compound object and then (to the extent possible) inserts references into it to the objects found in the original. So, the original object and the new object point the same reference and changes in any object means the changes in the reference which eventually impacts both objects.\n",
    "\n",
    "Using ***'=' :***"
   ]
  },
  {
   "cell_type": "code",
   "execution_count": 30,
   "id": "f6c975c5",
   "metadata": {},
   "outputs": [
    {
     "name": "stdout",
     "output_type": "stream",
     "text": [
      "{'banana', 'apple', 'cherry'}\n"
     ]
    }
   ],
   "source": [
    "set1 = {\"apple\", \"banana\", \"cherry\"}\n",
    "set2 = set1\n",
    "print(set2)"
   ]
  },
  {
   "cell_type": "markdown",
   "id": "dfb9f161",
   "metadata": {},
   "source": [
    "We can verify the shallow copy by printing the memory location of two variables. The memory location will be same in this case."
   ]
  },
  {
   "cell_type": "code",
   "execution_count": 31,
   "id": "3a0ce1e2",
   "metadata": {},
   "outputs": [
    {
     "name": "stdout",
     "output_type": "stream",
     "text": [
      "Memory location for set1: 2356428416608\n",
      "Memory location for set2: 2356428416608\n"
     ]
    }
   ],
   "source": [
    "set1 = {\"apple\", \"banana\", \"cherry\"}\n",
    "set2 = set1\n",
    "print('Memory location for set1:', id(set1))\n",
    "print('Memory location for set2:', id(set2))"
   ]
  },
  {
   "cell_type": "markdown",
   "id": "8a8dc383",
   "metadata": {},
   "source": [
    "We can also use ***import copy*** module for shallow and deep copy operations."
   ]
  },
  {
   "cell_type": "markdown",
   "id": "16ecd690",
   "metadata": {},
   "source": [
    "### Concatenate two sets\n",
    "\n",
    "***union():*** It returns a new set with all items from both sets"
   ]
  },
  {
   "cell_type": "code",
   "execution_count": 32,
   "id": "0b917e26",
   "metadata": {},
   "outputs": [
    {
     "name": "stdout",
     "output_type": "stream",
     "text": [
      "{1, 2, 3, 'c', 'b', 'a'}\n"
     ]
    }
   ],
   "source": [
    "set1 = {'a', 'b' , 'c'}\n",
    "set2 = {1, 2, 3}\n",
    "set3 = set1.union(set2)\n",
    "print(set3)"
   ]
  },
  {
   "cell_type": "markdown",
   "id": "749d1936",
   "metadata": {},
   "source": [
    "***update():*** It takes the items from one set and inserts into another set"
   ]
  },
  {
   "cell_type": "code",
   "execution_count": 33,
   "id": "2c540f46",
   "metadata": {},
   "outputs": [
    {
     "name": "stdout",
     "output_type": "stream",
     "text": [
      "{1, 2, 3, 'c', 'b', 'a'}\n"
     ]
    }
   ],
   "source": [
    "set1 = {'a', 'b' , 'c'}\n",
    "set2 = {1, 2, 3}\n",
    "set1.update(set2)\n",
    "print(set1)"
   ]
  },
  {
   "cell_type": "markdown",
   "id": "98342fa8",
   "metadata": {},
   "source": [
    "***Note:*** Both union() and update() will exclude any duplicate items."
   ]
  },
  {
   "cell_type": "markdown",
   "id": "e012e23a",
   "metadata": {},
   "source": [
    "***intersection_update():*** It keeps only the items that are present in both sets."
   ]
  },
  {
   "cell_type": "code",
   "execution_count": 34,
   "id": "c63bceb3",
   "metadata": {},
   "outputs": [
    {
     "name": "stdout",
     "output_type": "stream",
     "text": [
      "{'apple'}\n"
     ]
    }
   ],
   "source": [
    "set1 = {\"apple\", \"banana\", \"cherry\"}\n",
    "set2 = {\"google\", \"microsoft\", \"apple\"}\n",
    "set1.intersection_update(set2)\n",
    "print(set1)"
   ]
  },
  {
   "cell_type": "markdown",
   "id": "1db0fe0d",
   "metadata": {},
   "source": [
    "***intersection():*** It returns a new set, that only contains the items that are present in both sets"
   ]
  },
  {
   "cell_type": "code",
   "execution_count": 35,
   "id": "c7af4f8c",
   "metadata": {},
   "outputs": [
    {
     "name": "stdout",
     "output_type": "stream",
     "text": [
      "{'apple'}\n"
     ]
    }
   ],
   "source": [
    "set1 = {\"apple\", \"banana\", \"cherry\"}\n",
    "set2 = {\"google\", \"microsoft\", \"apple\"}\n",
    "set3 = set1.intersection(set2)\n",
    "print(set3)"
   ]
  },
  {
   "cell_type": "markdown",
   "id": "fd5a24dd",
   "metadata": {},
   "source": [
    "***symmetric_difference_update():*** It keeps only the elements that are NOT present in both sets"
   ]
  },
  {
   "cell_type": "code",
   "execution_count": 36,
   "id": "4e55caa3",
   "metadata": {},
   "outputs": [
    {
     "name": "stdout",
     "output_type": "stream",
     "text": [
      "{'banana', 'google', 'cherry', 'microsoft'}\n"
     ]
    }
   ],
   "source": [
    "set1 = {\"apple\", \"banana\", \"cherry\"}\n",
    "set2 = {\"google\", \"microsoft\", \"apple\"}\n",
    "set1.symmetric_difference_update(set2)\n",
    "print(set1)"
   ]
  },
  {
   "cell_type": "markdown",
   "id": "13f6686a",
   "metadata": {},
   "source": [
    "***symmetric_difference():*** It returns a new set that contains only the elements that are NOT present in both sets"
   ]
  },
  {
   "cell_type": "code",
   "execution_count": 37,
   "id": "13aff79f",
   "metadata": {},
   "outputs": [
    {
     "name": "stdout",
     "output_type": "stream",
     "text": [
      "{'banana', 'google', 'cherry', 'microsoft'}\n"
     ]
    }
   ],
   "source": [
    "set1 = {\"apple\", \"banana\", \"cherry\"}\n",
    "set2 = {\"google\", \"microsoft\", \"apple\"}\n",
    "set3 = set1.symmetric_difference(set2)\n",
    "print(set3)"
   ]
  },
  {
   "cell_type": "markdown",
   "id": "7238bf81",
   "metadata": {},
   "source": [
    "***Note:*** The values True and 1 are considered the same value in sets, and are treated as duplicates:"
   ]
  },
  {
   "cell_type": "code",
   "execution_count": 38,
   "id": "df81cf55",
   "metadata": {},
   "outputs": [
    {
     "name": "stdout",
     "output_type": "stream",
     "text": [
      "{2, 'banana', 'google', 'cherry'}\n"
     ]
    }
   ],
   "source": [
    "set1 = {\"apple\", \"banana\", \"cherry\", True}\n",
    "set2 = {\"google\", 1, \"apple\", 2}\n",
    "set3 = set1.symmetric_difference(set2)\n",
    "print(set3)"
   ]
  },
  {
   "cell_type": "code",
   "execution_count": null,
   "id": "581e8c89",
   "metadata": {},
   "outputs": [],
   "source": []
  }
 ],
 "metadata": {
  "kernelspec": {
   "display_name": "Python 3",
   "language": "python",
   "name": "python3"
  },
  "language_info": {
   "codemirror_mode": {
    "name": "ipython",
    "version": 3
   },
   "file_extension": ".py",
   "mimetype": "text/x-python",
   "name": "python",
   "nbconvert_exporter": "python",
   "pygments_lexer": "ipython3",
   "version": "3.8.8"
  }
 },
 "nbformat": 4,
 "nbformat_minor": 5
}
